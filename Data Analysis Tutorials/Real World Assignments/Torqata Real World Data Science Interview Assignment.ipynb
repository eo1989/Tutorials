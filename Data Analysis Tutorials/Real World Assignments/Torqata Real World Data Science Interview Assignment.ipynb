{
 "cells": [
  {
   "cell_type": "markdown",
   "id": "61a08247",
   "metadata": {},
   "source": [
    "# Real World Data Science Interview Assignment\n",
    "\n",
    "This assignment shows my work in roughly the order that I examined the data and built the model. I left it as such so that those analyzing the work could see my thought processes as I went through the assignment.\n",
    "\n",
    "## Executive  Summary\n",
    "\n",
    "A simple model flagging all transactions that occurred in one second and those that had a repeated device ID with price above 29 dollars appears to capture most of the potential value. More investigation needs to be done to determine if other models would be able to find more signal in the data to flag more transactions as fraud."
   ]
  },
  {
   "cell_type": "markdown",
   "id": "734a62c4",
   "metadata": {},
   "source": [
    "## Read in data\n",
    "\n",
    "On read, several columns will be converted to a different type. The two time columns will be converted to datetime. The source, browser, and sex columns are converted to categorical as they have very low cardinality. Some memory is saved by using an 8-bit integer for the class column. The first column in the CSV is unnamed containing unique integers and is not read."
   ]
  },
  {
   "cell_type": "code",
   "execution_count": 3,
   "id": "d3b825e7",
   "metadata": {},
   "outputs": [
    {
     "data": {
      "text/html": [
       "<div>\n",
       "<style scoped>\n",
       "    .dataframe tbody tr th:only-of-type {\n",
       "        vertical-align: middle;\n",
       "    }\n",
       "\n",
       "    .dataframe tbody tr th {\n",
       "        vertical-align: top;\n",
       "    }\n",
       "\n",
       "    .dataframe thead th {\n",
       "        text-align: right;\n",
       "    }\n",
       "</style>\n",
       "<table border=\"1\" class=\"dataframe\">\n",
       "  <thead>\n",
       "    <tr style=\"text-align: right;\">\n",
       "      <th></th>\n",
       "      <th>user_id</th>\n",
       "      <th>signup_time</th>\n",
       "      <th>purchase_time</th>\n",
       "      <th>purchase_value</th>\n",
       "      <th>device_id</th>\n",
       "      <th>source</th>\n",
       "      <th>browser</th>\n",
       "      <th>sex</th>\n",
       "      <th>age</th>\n",
       "      <th>ip_address</th>\n",
       "      <th>class</th>\n",
       "    </tr>\n",
       "  </thead>\n",
       "  <tbody>\n",
       "    <tr>\n",
       "      <th>0</th>\n",
       "      <td>285108</td>\n",
       "      <td>2015-07-15 04:36:55</td>\n",
       "      <td>2015-09-10 14:17:56</td>\n",
       "      <td>31</td>\n",
       "      <td>HZAKVUFTDOSFD</td>\n",
       "      <td>Direct</td>\n",
       "      <td>Chrome</td>\n",
       "      <td>M</td>\n",
       "      <td>49</td>\n",
       "      <td>2.818400e+09</td>\n",
       "      <td>0</td>\n",
       "    </tr>\n",
       "    <tr>\n",
       "      <th>1</th>\n",
       "      <td>131009</td>\n",
       "      <td>2015-01-24 12:29:58</td>\n",
       "      <td>2015-04-13 04:53:55</td>\n",
       "      <td>31</td>\n",
       "      <td>XGQAJSOUJIZCC</td>\n",
       "      <td>SEO</td>\n",
       "      <td>IE</td>\n",
       "      <td>F</td>\n",
       "      <td>21</td>\n",
       "      <td>3.251268e+09</td>\n",
       "      <td>0</td>\n",
       "    </tr>\n",
       "    <tr>\n",
       "      <th>2</th>\n",
       "      <td>328855</td>\n",
       "      <td>2015-03-11 00:54:12</td>\n",
       "      <td>2015-04-05 12:23:49</td>\n",
       "      <td>16</td>\n",
       "      <td>VCCTAYDCWKZIY</td>\n",
       "      <td>Direct</td>\n",
       "      <td>IE</td>\n",
       "      <td>M</td>\n",
       "      <td>26</td>\n",
       "      <td>2.727760e+09</td>\n",
       "      <td>0</td>\n",
       "    </tr>\n",
       "    <tr>\n",
       "      <th>3</th>\n",
       "      <td>229053</td>\n",
       "      <td>2015-01-07 13:19:17</td>\n",
       "      <td>2015-01-09 10:12:06</td>\n",
       "      <td>29</td>\n",
       "      <td>MFFIHYNXCJLEY</td>\n",
       "      <td>SEO</td>\n",
       "      <td>Chrome</td>\n",
       "      <td>M</td>\n",
       "      <td>34</td>\n",
       "      <td>2.083420e+09</td>\n",
       "      <td>0</td>\n",
       "    </tr>\n",
       "    <tr>\n",
       "      <th>4</th>\n",
       "      <td>108439</td>\n",
       "      <td>2015-02-08 21:11:04</td>\n",
       "      <td>2015-04-09 14:26:10</td>\n",
       "      <td>26</td>\n",
       "      <td>WMSXWGVPNIFBM</td>\n",
       "      <td>Ads</td>\n",
       "      <td>FireFox</td>\n",
       "      <td>M</td>\n",
       "      <td>33</td>\n",
       "      <td>3.207913e+09</td>\n",
       "      <td>0</td>\n",
       "    </tr>\n",
       "  </tbody>\n",
       "</table>\n",
       "</div>"
      ],
      "text/plain": [
       "   user_id         signup_time       purchase_time  purchase_value  \\\n",
       "0   285108 2015-07-15 04:36:55 2015-09-10 14:17:56              31   \n",
       "1   131009 2015-01-24 12:29:58 2015-04-13 04:53:55              31   \n",
       "2   328855 2015-03-11 00:54:12 2015-04-05 12:23:49              16   \n",
       "3   229053 2015-01-07 13:19:17 2015-01-09 10:12:06              29   \n",
       "4   108439 2015-02-08 21:11:04 2015-04-09 14:26:10              26   \n",
       "\n",
       "       device_id  source  browser sex  age    ip_address  class  \n",
       "0  HZAKVUFTDOSFD  Direct   Chrome   M   49  2.818400e+09      0  \n",
       "1  XGQAJSOUJIZCC     SEO       IE   F   21  3.251268e+09      0  \n",
       "2  VCCTAYDCWKZIY  Direct       IE   M   26  2.727760e+09      0  \n",
       "3  MFFIHYNXCJLEY     SEO   Chrome   M   34  2.083420e+09      0  \n",
       "4  WMSXWGVPNIFBM     Ads  FireFox   M   33  3.207913e+09      0  "
      ]
     },
     "execution_count": 3,
     "metadata": {},
     "output_type": "execute_result"
    }
   ],
   "source": [
    "import pandas as pd\n",
    "import seaborn as sns\n",
    "import matplotlib.pyplot as plt\n",
    "\n",
    "sns.set_theme(\n",
    "    rc={\n",
    "        \"figure.dpi\": 144,\n",
    "        \"ytick.labelsize\": 7,\n",
    "        \"axes.labelsize\": 8,\n",
    "        \"xtick.labelsize\": 7,\n",
    "        \"axes.titlesize\": 9,\n",
    "    }\n",
    ")\n",
    "\n",
    "dtype = {\n",
    "    \"source\": \"category\",\n",
    "    \"browser\": \"category\",\n",
    "    \"sex\": \"category\",\n",
    "    \"class\": \"uint8\",\n",
    "}\n",
    "df = pd.read_csv(\n",
    "    # \"./data/fraud.csv\",\n",
    "    \"../../data/fraud.csv\",\n",
    "    usecols=range(1, 12),\n",
    "    dtype=dtype,\n",
    "    parse_dates=[\"signup_time\", \"purchase_time\"],\n",
    ")\n",
    "df.head()"
   ]
  },
  {
   "cell_type": "markdown",
   "id": "f981f173",
   "metadata": {},
   "source": [
    "### Get metadata\n",
    "\n",
    "* 120k rows, 11 columns"
   ]
  },
  {
   "cell_type": "code",
   "execution_count": 4,
   "id": "9c3b36ee",
   "metadata": {},
   "outputs": [
    {
     "data": {
      "text/plain": [
       "(120000, 11)"
      ]
     },
     "execution_count": 4,
     "metadata": {},
     "output_type": "execute_result"
    }
   ],
   "source": [
    "df.shape"
   ]
  },
  {
   "cell_type": "markdown",
   "id": "48ccb37b",
   "metadata": {},
   "source": [
    "### Output data types"
   ]
  },
  {
   "cell_type": "code",
   "execution_count": 5,
   "id": "f89d7fb5",
   "metadata": {},
   "outputs": [
    {
     "data": {
      "text/plain": [
       "user_id                    int64\n",
       "signup_time       datetime64[ns]\n",
       "purchase_time     datetime64[ns]\n",
       "purchase_value             int64\n",
       "device_id                 object\n",
       "source                  category\n",
       "browser                 category\n",
       "sex                     category\n",
       "age                        int64\n",
       "ip_address               float64\n",
       "class                      uint8\n",
       "dtype: object"
      ]
     },
     "execution_count": 5,
     "metadata": {},
     "output_type": "execute_result"
    }
   ],
   "source": [
    "df.dtypes"
   ]
  },
  {
   "cell_type": "markdown",
   "id": "d0816ff9",
   "metadata": {},
   "source": [
    "### Check for missing values\n",
    "\n",
    "No missing values"
   ]
  },
  {
   "cell_type": "code",
   "execution_count": 6,
   "id": "eade48d6",
   "metadata": {},
   "outputs": [
    {
     "data": {
      "text/plain": [
       "user_id           0\n",
       "signup_time       0\n",
       "purchase_time     0\n",
       "purchase_value    0\n",
       "device_id         0\n",
       "source            0\n",
       "browser           0\n",
       "sex               0\n",
       "age               0\n",
       "ip_address        0\n",
       "class             0\n",
       "dtype: int64"
      ]
     },
     "execution_count": 6,
     "metadata": {},
     "output_type": "execute_result"
    }
   ],
   "source": [
    "df.isna().sum()"
   ]
  },
  {
   "cell_type": "markdown",
   "id": "b4ebda3c",
   "metadata": {},
   "source": [
    "### Examine uniqueness\n",
    "\n",
    "Some repeating device ids and ip_addresses, but mostly unique."
   ]
  },
  {
   "cell_type": "code",
   "execution_count": 7,
   "id": "6255b8f3",
   "metadata": {},
   "outputs": [
    {
     "data": {
      "text/plain": [
       "user_id           120000\n",
       "signup_time       120000\n",
       "purchase_time     119729\n",
       "purchase_value       120\n",
       "device_id         110599\n",
       "source                 3\n",
       "browser                5\n",
       "sex                    2\n",
       "age                   57\n",
       "ip_address        114135\n",
       "class                  2\n",
       "dtype: int64"
      ]
     },
     "execution_count": 7,
     "metadata": {},
     "output_type": "execute_result"
    }
   ],
   "source": [
    "df.nunique()"
   ]
  },
  {
   "cell_type": "markdown",
   "id": "93afec4b",
   "metadata": {},
   "source": [
    "##   Read in IP Address mapping data\n",
    "\n",
    "The upper_bound_ip_address is read in as an integer, but needs to be converted to a float for the `merge_asof` pandas function to work with it. The country column is converted to categorical."
   ]
  },
  {
   "cell_type": "code",
   "execution_count": 8,
   "id": "eb2f20ab",
   "metadata": {
    "scrolled": true
   },
   "outputs": [
    {
     "data": {
      "text/html": [
       "<div>\n",
       "<style scoped>\n",
       "    .dataframe tbody tr th:only-of-type {\n",
       "        vertical-align: middle;\n",
       "    }\n",
       "\n",
       "    .dataframe tbody tr th {\n",
       "        vertical-align: top;\n",
       "    }\n",
       "\n",
       "    .dataframe thead th {\n",
       "        text-align: right;\n",
       "    }\n",
       "</style>\n",
       "<table border=\"1\" class=\"dataframe\">\n",
       "  <thead>\n",
       "    <tr style=\"text-align: right;\">\n",
       "      <th></th>\n",
       "      <th>lower_bound_ip_address</th>\n",
       "      <th>upper_bound_ip_address</th>\n",
       "      <th>country</th>\n",
       "    </tr>\n",
       "  </thead>\n",
       "  <tbody>\n",
       "    <tr>\n",
       "      <th>0</th>\n",
       "      <td>16777216.0</td>\n",
       "      <td>16777471.0</td>\n",
       "      <td>Australia</td>\n",
       "    </tr>\n",
       "    <tr>\n",
       "      <th>1</th>\n",
       "      <td>16777472.0</td>\n",
       "      <td>16777727.0</td>\n",
       "      <td>China</td>\n",
       "    </tr>\n",
       "    <tr>\n",
       "      <th>2</th>\n",
       "      <td>16777728.0</td>\n",
       "      <td>16778239.0</td>\n",
       "      <td>China</td>\n",
       "    </tr>\n",
       "    <tr>\n",
       "      <th>3</th>\n",
       "      <td>16778240.0</td>\n",
       "      <td>16779263.0</td>\n",
       "      <td>Australia</td>\n",
       "    </tr>\n",
       "    <tr>\n",
       "      <th>4</th>\n",
       "      <td>16779264.0</td>\n",
       "      <td>16781311.0</td>\n",
       "      <td>China</td>\n",
       "    </tr>\n",
       "  </tbody>\n",
       "</table>\n",
       "</div>"
      ],
      "text/plain": [
       "   lower_bound_ip_address  upper_bound_ip_address    country\n",
       "0              16777216.0              16777471.0  Australia\n",
       "1              16777472.0              16777727.0      China\n",
       "2              16777728.0              16778239.0      China\n",
       "3              16778240.0              16779263.0  Australia\n",
       "4              16779264.0              16781311.0      China"
      ]
     },
     "execution_count": 8,
     "metadata": {},
     "output_type": "execute_result"
    }
   ],
   "source": [
    "dtype = {\"upper_bound_ip_address\": \"float64\", \"country\": \"category\"}\n",
    "df_ip = pd.read_csv(\"../../data/IpAddress_to_Country.csv\", dtype=dtype)\n",
    "df_ip = df_ip.sort_values(\"lower_bound_ip_address\")\n",
    "df_ip.head()\n"
   ]
  },
  {
   "cell_type": "markdown",
   "id": "48b0f08c",
   "metadata": {},
   "source": [
    "### Get metadata"
   ]
  },
  {
   "cell_type": "code",
   "execution_count": 9,
   "id": "8f7ea80e",
   "metadata": {},
   "outputs": [
    {
     "data": {
      "text/plain": [
       "(138846, 3)"
      ]
     },
     "execution_count": 9,
     "metadata": {},
     "output_type": "execute_result"
    }
   ],
   "source": [
    "df_ip.shape"
   ]
  },
  {
   "cell_type": "code",
   "execution_count": 10,
   "id": "2008188e",
   "metadata": {},
   "outputs": [
    {
     "data": {
      "text/plain": [
       "lower_bound_ip_address     float64\n",
       "upper_bound_ip_address     float64\n",
       "country                   category\n",
       "dtype: object"
      ]
     },
     "execution_count": 10,
     "metadata": {},
     "output_type": "execute_result"
    }
   ],
   "source": [
    "df_ip.dtypes"
   ]
  },
  {
   "cell_type": "markdown",
   "id": "794d7b98",
   "metadata": {},
   "source": [
    "All IP Addresses in lookup table are unique."
   ]
  },
  {
   "cell_type": "code",
   "execution_count": 11,
   "id": "bd905f17",
   "metadata": {},
   "outputs": [
    {
     "data": {
      "text/plain": [
       "lower_bound_ip_address    138846\n",
       "upper_bound_ip_address    138846\n",
       "country                      235\n",
       "dtype: int64"
      ]
     },
     "execution_count": 11,
     "metadata": {},
     "output_type": "execute_result"
    }
   ],
   "source": [
    "df_ip.nunique()"
   ]
  },
  {
   "cell_type": "code",
   "execution_count": 12,
   "id": "007a2657",
   "metadata": {
    "scrolled": true
   },
   "outputs": [
    {
     "data": {
      "text/plain": [
       "lower_bound_ip_address    0\n",
       "upper_bound_ip_address    0\n",
       "country                   0\n",
       "dtype: int64"
      ]
     },
     "execution_count": 12,
     "metadata": {},
     "output_type": "execute_result"
    }
   ],
   "source": [
    "df_ip.isna().sum()"
   ]
  },
  {
   "cell_type": "markdown",
   "id": "8137b177",
   "metadata": {},
   "source": [
    "### Check that IP Addresses are sorted and do not overlap\n",
    "\n",
    "We want to ensure each IPAddress range is mapped to exactly one country. The addresses need to be sorted as well for `merge_asof` to work. We stack them in one Series below."
   ]
  },
  {
   "cell_type": "code",
   "execution_count": 13,
   "id": "4ab0cdc2",
   "metadata": {
    "scrolled": true
   },
   "outputs": [
    {
     "data": {
      "text/plain": [
       "0    16777216.0\n",
       "0    16777471.0\n",
       "1    16777472.0\n",
       "1    16777727.0\n",
       "2    16777728.0\n",
       "dtype: float64"
      ]
     },
     "execution_count": 13,
     "metadata": {},
     "output_type": "execute_result"
    }
   ],
   "source": [
    "s = df_ip.iloc[:, :2].stack().droplevel(1)\n",
    "s.head()\n"
   ]
  },
  {
   "cell_type": "markdown",
   "id": "c89c28b4",
   "metadata": {},
   "source": [
    "Verify they are sorted and do not overlap."
   ]
  },
  {
   "cell_type": "code",
   "execution_count": 14,
   "id": "fa0ccfcb",
   "metadata": {},
   "outputs": [
    {
     "data": {
      "text/plain": [
       "True"
      ]
     },
     "execution_count": 14,
     "metadata": {},
     "output_type": "execute_result"
    }
   ],
   "source": [
    "s.is_monotonic_increasing"
   ]
  },
  {
   "cell_type": "markdown",
   "id": "768db431",
   "metadata": {},
   "source": [
    "## Add country\n",
    "\n",
    "The `merge_asof` pandas function allows you to join two DataFrames on keys that don't match. The DataFrames must be sorted by their `left_on` and `right_on` columns. Below, the left (fraud) DataFrame will match with the last row of the right (ip addresses) DataFrame where the lower_bound_ip_address is less than the ip_address. First we sort the data and then perform the merge."
   ]
  },
  {
   "cell_type": "code",
   "execution_count": 15,
   "id": "d3b2343d",
   "metadata": {},
   "outputs": [
    {
     "data": {
      "text/html": [
       "<div>\n",
       "<style scoped>\n",
       "    .dataframe tbody tr th:only-of-type {\n",
       "        vertical-align: middle;\n",
       "    }\n",
       "\n",
       "    .dataframe tbody tr th {\n",
       "        vertical-align: top;\n",
       "    }\n",
       "\n",
       "    .dataframe thead th {\n",
       "        text-align: right;\n",
       "    }\n",
       "</style>\n",
       "<table border=\"1\" class=\"dataframe\">\n",
       "  <thead>\n",
       "    <tr style=\"text-align: right;\">\n",
       "      <th></th>\n",
       "      <th>user_id</th>\n",
       "      <th>signup_time</th>\n",
       "      <th>purchase_time</th>\n",
       "      <th>purchase_value</th>\n",
       "      <th>device_id</th>\n",
       "      <th>source</th>\n",
       "      <th>browser</th>\n",
       "      <th>sex</th>\n",
       "      <th>age</th>\n",
       "      <th>ip_address</th>\n",
       "      <th>class</th>\n",
       "      <th>lower_bound_ip_address</th>\n",
       "      <th>upper_bound_ip_address</th>\n",
       "      <th>country</th>\n",
       "    </tr>\n",
       "  </thead>\n",
       "  <tbody>\n",
       "    <tr>\n",
       "      <th>119998</th>\n",
       "      <td>172984</td>\n",
       "      <td>2015-08-15 15:40:46</td>\n",
       "      <td>2015-10-30 09:47:39</td>\n",
       "      <td>9</td>\n",
       "      <td>TSDCMHPWAUZAR</td>\n",
       "      <td>Ads</td>\n",
       "      <td>IE</td>\n",
       "      <td>F</td>\n",
       "      <td>35</td>\n",
       "      <td>4.294822e+09</td>\n",
       "      <td>0</td>\n",
       "      <td>3.758096e+09</td>\n",
       "      <td>3.758096e+09</td>\n",
       "      <td>Australia</td>\n",
       "    </tr>\n",
       "    <tr>\n",
       "      <th>119999</th>\n",
       "      <td>168001</td>\n",
       "      <td>2015-03-03 11:27:19</td>\n",
       "      <td>2015-05-05 10:32:46</td>\n",
       "      <td>39</td>\n",
       "      <td>JLVKRXCKCWNLW</td>\n",
       "      <td>Ads</td>\n",
       "      <td>FireFox</td>\n",
       "      <td>F</td>\n",
       "      <td>41</td>\n",
       "      <td>4.294850e+09</td>\n",
       "      <td>0</td>\n",
       "      <td>3.758096e+09</td>\n",
       "      <td>3.758096e+09</td>\n",
       "      <td>Australia</td>\n",
       "    </tr>\n",
       "  </tbody>\n",
       "</table>\n",
       "</div>"
      ],
      "text/plain": [
       "        user_id         signup_time       purchase_time  purchase_value  \\\n",
       "119998   172984 2015-08-15 15:40:46 2015-10-30 09:47:39               9   \n",
       "119999   168001 2015-03-03 11:27:19 2015-05-05 10:32:46              39   \n",
       "\n",
       "            device_id source  browser sex  age    ip_address  class  \\\n",
       "119998  TSDCMHPWAUZAR    Ads       IE   F   35  4.294822e+09      0   \n",
       "119999  JLVKRXCKCWNLW    Ads  FireFox   F   41  4.294850e+09      0   \n",
       "\n",
       "        lower_bound_ip_address  upper_bound_ip_address    country  \n",
       "119998            3.758096e+09            3.758096e+09  Australia  \n",
       "119999            3.758096e+09            3.758096e+09  Australia  "
      ]
     },
     "execution_count": 15,
     "metadata": {},
     "output_type": "execute_result"
    }
   ],
   "source": [
    "df = df.sort_values(\"ip_address\")\n",
    "df_all = pd.merge_asof(\n",
    "    df, df_ip, left_on=\"ip_address\", right_on=\"lower_bound_ip_address\"\n",
    ")\n",
    "df_all.tail(2)\n"
   ]
  },
  {
   "cell_type": "markdown",
   "id": "ead332ff",
   "metadata": {},
   "source": [
    "While this works for most of the rows, the ip address is not checked for an upper bound. As you can see above, there are rows where the ip_address is not in the interval. Below, we make the country value missing in the rows where the ip_address is not between the bounds. Missing values for country are filled with the string 'Unknown'. The data is then sorted by signup time."
   ]
  },
  {
   "cell_type": "code",
   "execution_count": 16,
   "id": "5bf4ba65",
   "metadata": {},
   "outputs": [
    {
     "data": {
      "text/html": [
       "<div>\n",
       "<style scoped>\n",
       "    .dataframe tbody tr th:only-of-type {\n",
       "        vertical-align: middle;\n",
       "    }\n",
       "\n",
       "    .dataframe tbody tr th {\n",
       "        vertical-align: top;\n",
       "    }\n",
       "\n",
       "    .dataframe thead th {\n",
       "        text-align: right;\n",
       "    }\n",
       "</style>\n",
       "<table border=\"1\" class=\"dataframe\">\n",
       "  <thead>\n",
       "    <tr style=\"text-align: right;\">\n",
       "      <th></th>\n",
       "      <th>user_id</th>\n",
       "      <th>signup_time</th>\n",
       "      <th>purchase_time</th>\n",
       "      <th>purchase_value</th>\n",
       "      <th>device_id</th>\n",
       "      <th>source</th>\n",
       "      <th>browser</th>\n",
       "      <th>sex</th>\n",
       "      <th>age</th>\n",
       "      <th>ip_address</th>\n",
       "      <th>class</th>\n",
       "      <th>country</th>\n",
       "    </tr>\n",
       "  </thead>\n",
       "  <tbody>\n",
       "    <tr>\n",
       "      <th>0</th>\n",
       "      <td>309557</td>\n",
       "      <td>2015-01-01 00:00:43</td>\n",
       "      <td>2015-01-01 00:00:44</td>\n",
       "      <td>14</td>\n",
       "      <td>BBPACGBUVJUXF</td>\n",
       "      <td>Ads</td>\n",
       "      <td>Chrome</td>\n",
       "      <td>F</td>\n",
       "      <td>38</td>\n",
       "      <td>2.001426e+09</td>\n",
       "      <td>1</td>\n",
       "      <td>Korea Republic of</td>\n",
       "    </tr>\n",
       "    <tr>\n",
       "      <th>1</th>\n",
       "      <td>124539</td>\n",
       "      <td>2015-01-01 00:00:44</td>\n",
       "      <td>2015-01-01 00:00:45</td>\n",
       "      <td>14</td>\n",
       "      <td>BBPACGBUVJUXF</td>\n",
       "      <td>Ads</td>\n",
       "      <td>Chrome</td>\n",
       "      <td>F</td>\n",
       "      <td>38</td>\n",
       "      <td>2.001426e+09</td>\n",
       "      <td>1</td>\n",
       "      <td>Korea Republic of</td>\n",
       "    </tr>\n",
       "    <tr>\n",
       "      <th>2</th>\n",
       "      <td>161246</td>\n",
       "      <td>2015-01-01 00:00:45</td>\n",
       "      <td>2015-01-01 00:00:46</td>\n",
       "      <td>14</td>\n",
       "      <td>BBPACGBUVJUXF</td>\n",
       "      <td>Ads</td>\n",
       "      <td>Chrome</td>\n",
       "      <td>F</td>\n",
       "      <td>38</td>\n",
       "      <td>2.001426e+09</td>\n",
       "      <td>1</td>\n",
       "      <td>Korea Republic of</td>\n",
       "    </tr>\n",
       "    <tr>\n",
       "      <th>3</th>\n",
       "      <td>356414</td>\n",
       "      <td>2015-01-01 00:00:46</td>\n",
       "      <td>2015-01-01 00:00:47</td>\n",
       "      <td>14</td>\n",
       "      <td>BBPACGBUVJUXF</td>\n",
       "      <td>Ads</td>\n",
       "      <td>Chrome</td>\n",
       "      <td>F</td>\n",
       "      <td>38</td>\n",
       "      <td>2.001426e+09</td>\n",
       "      <td>1</td>\n",
       "      <td>Korea Republic of</td>\n",
       "    </tr>\n",
       "    <tr>\n",
       "      <th>4</th>\n",
       "      <td>338656</td>\n",
       "      <td>2015-01-01 00:00:47</td>\n",
       "      <td>2015-01-01 00:00:48</td>\n",
       "      <td>14</td>\n",
       "      <td>BBPACGBUVJUXF</td>\n",
       "      <td>Ads</td>\n",
       "      <td>Chrome</td>\n",
       "      <td>F</td>\n",
       "      <td>38</td>\n",
       "      <td>2.001426e+09</td>\n",
       "      <td>1</td>\n",
       "      <td>Korea Republic of</td>\n",
       "    </tr>\n",
       "  </tbody>\n",
       "</table>\n",
       "</div>"
      ],
      "text/plain": [
       "   user_id         signup_time       purchase_time  purchase_value  \\\n",
       "0   309557 2015-01-01 00:00:43 2015-01-01 00:00:44              14   \n",
       "1   124539 2015-01-01 00:00:44 2015-01-01 00:00:45              14   \n",
       "2   161246 2015-01-01 00:00:45 2015-01-01 00:00:46              14   \n",
       "3   356414 2015-01-01 00:00:46 2015-01-01 00:00:47              14   \n",
       "4   338656 2015-01-01 00:00:47 2015-01-01 00:00:48              14   \n",
       "\n",
       "       device_id source browser sex  age    ip_address  class  \\\n",
       "0  BBPACGBUVJUXF    Ads  Chrome   F   38  2.001426e+09      1   \n",
       "1  BBPACGBUVJUXF    Ads  Chrome   F   38  2.001426e+09      1   \n",
       "2  BBPACGBUVJUXF    Ads  Chrome   F   38  2.001426e+09      1   \n",
       "3  BBPACGBUVJUXF    Ads  Chrome   F   38  2.001426e+09      1   \n",
       "4  BBPACGBUVJUXF    Ads  Chrome   F   38  2.001426e+09      1   \n",
       "\n",
       "             country  \n",
       "0  Korea Republic of  \n",
       "1  Korea Republic of  \n",
       "2  Korea Republic of  \n",
       "3  Korea Republic of  \n",
       "4  Korea Republic of  "
      ]
     },
     "execution_count": 16,
     "metadata": {},
     "output_type": "execute_result"
    }
   ],
   "source": [
    "filt = df_all[\"ip_address\"].between(\n",
    "    df_all[\"lower_bound_ip_address\"], df_all[\"upper_bound_ip_address\"]\n",
    ")\n",
    "\n",
    "\n",
    "df_all[\"country\"] = df_all[\"country\"].where(filt)\n",
    "\n",
    "\n",
    "df_all[\"country\"] = (\n",
    "    df_all[\"country\"]\n",
    "    .cat.remove_unused_categories()\n",
    "    .cat.add_categories(\"Unknown\")\n",
    "    .fillna(\"Unknown\")\n",
    ")\n",
    "\n",
    "\n",
    "df_all = df_all.drop(columns=[\"lower_bound_ip_address\", \"upper_bound_ip_address\"])\n",
    "\n",
    "\n",
    "df_all = df_all.sort_values(\"signup_time\", ignore_index=True)\n",
    "\n",
    "\n",
    "df_all.head()\n"
   ]
  },
  {
   "cell_type": "markdown",
   "id": "8d86a1f5",
   "metadata": {},
   "source": [
    "Find the number of missing values now. About 17k rows have IP addresses that are not found in our table."
   ]
  },
  {
   "cell_type": "code",
   "execution_count": 17,
   "id": "4713b568",
   "metadata": {},
   "outputs": [
    {
     "data": {
      "text/plain": [
       "17418"
      ]
     },
     "execution_count": 17,
     "metadata": {},
     "output_type": "execute_result"
    }
   ],
   "source": [
    "(df_all[\"country\"] == \"Unknown\").sum()"
   ]
  },
  {
   "cell_type": "markdown",
   "id": "ee1df11c",
   "metadata": {},
   "source": [
    "## Creating a hold-out test dataset\n",
    "\n",
    "Before going any further, we will split our dataset into training and testing sets. We will not look at the test set until the very end of our analysis, in which we will use to get a final evaluation of our model. Since transactions are coming in over time, we will not randomly split the data, and instead choose to hold out the last 20%. The data is currently sorted by signup_time so selecting the tail of the DataFrame will work.\n",
    "\n",
    "Splitting the data like this provides a much more realistic assessment of our analysis/model as it would happen in the real world."
   ]
  },
  {
   "cell_type": "code",
   "execution_count": 18,
   "id": "2cafd694",
   "metadata": {},
   "outputs": [],
   "source": [
    "hold_out = len(df_all) // 5\n",
    "df_train = df_all.iloc[:-hold_out]\n",
    "df_test = df_all.iloc[-hold_out:]\n"
   ]
  },
  {
   "cell_type": "markdown",
   "id": "b990ad0b",
   "metadata": {},
   "source": [
    "We verify the split happened by outputting the tail/head of the new DataFrames."
   ]
  },
  {
   "cell_type": "code",
   "execution_count": 19,
   "id": "b0cc7d8b",
   "metadata": {},
   "outputs": [
    {
     "data": {
      "text/html": [
       "<div>\n",
       "<style scoped>\n",
       "    .dataframe tbody tr th:only-of-type {\n",
       "        vertical-align: middle;\n",
       "    }\n",
       "\n",
       "    .dataframe tbody tr th {\n",
       "        vertical-align: top;\n",
       "    }\n",
       "\n",
       "    .dataframe thead th {\n",
       "        text-align: right;\n",
       "    }\n",
       "</style>\n",
       "<table border=\"1\" class=\"dataframe\">\n",
       "  <thead>\n",
       "    <tr style=\"text-align: right;\">\n",
       "      <th></th>\n",
       "      <th>user_id</th>\n",
       "      <th>signup_time</th>\n",
       "      <th>purchase_time</th>\n",
       "      <th>purchase_value</th>\n",
       "      <th>device_id</th>\n",
       "      <th>source</th>\n",
       "      <th>browser</th>\n",
       "      <th>sex</th>\n",
       "      <th>age</th>\n",
       "      <th>ip_address</th>\n",
       "      <th>class</th>\n",
       "      <th>country</th>\n",
       "    </tr>\n",
       "  </thead>\n",
       "  <tbody>\n",
       "    <tr>\n",
       "      <th>95997</th>\n",
       "      <td>74448</td>\n",
       "      <td>2015-06-30 23:15:51</td>\n",
       "      <td>2015-07-29 15:38:55</td>\n",
       "      <td>29</td>\n",
       "      <td>ZNSKBVNQWQANG</td>\n",
       "      <td>Ads</td>\n",
       "      <td>IE</td>\n",
       "      <td>M</td>\n",
       "      <td>34</td>\n",
       "      <td>1.489732e+09</td>\n",
       "      <td>0</td>\n",
       "      <td>Bulgaria</td>\n",
       "    </tr>\n",
       "    <tr>\n",
       "      <th>95998</th>\n",
       "      <td>233722</td>\n",
       "      <td>2015-06-30 23:16:50</td>\n",
       "      <td>2015-07-06 04:36:00</td>\n",
       "      <td>34</td>\n",
       "      <td>BYHIAEGRYUFTN</td>\n",
       "      <td>Ads</td>\n",
       "      <td>Chrome</td>\n",
       "      <td>M</td>\n",
       "      <td>43</td>\n",
       "      <td>2.177280e+09</td>\n",
       "      <td>1</td>\n",
       "      <td>United States</td>\n",
       "    </tr>\n",
       "    <tr>\n",
       "      <th>95999</th>\n",
       "      <td>102254</td>\n",
       "      <td>2015-06-30 23:17:45</td>\n",
       "      <td>2015-10-04 21:52:34</td>\n",
       "      <td>46</td>\n",
       "      <td>AVGWGXJMCNHFY</td>\n",
       "      <td>Direct</td>\n",
       "      <td>Chrome</td>\n",
       "      <td>F</td>\n",
       "      <td>37</td>\n",
       "      <td>2.056748e+09</td>\n",
       "      <td>0</td>\n",
       "      <td>Australia</td>\n",
       "    </tr>\n",
       "  </tbody>\n",
       "</table>\n",
       "</div>"
      ],
      "text/plain": [
       "       user_id         signup_time       purchase_time  purchase_value  \\\n",
       "95997    74448 2015-06-30 23:15:51 2015-07-29 15:38:55              29   \n",
       "95998   233722 2015-06-30 23:16:50 2015-07-06 04:36:00              34   \n",
       "95999   102254 2015-06-30 23:17:45 2015-10-04 21:52:34              46   \n",
       "\n",
       "           device_id  source browser sex  age    ip_address  class  \\\n",
       "95997  ZNSKBVNQWQANG     Ads      IE   M   34  1.489732e+09      0   \n",
       "95998  BYHIAEGRYUFTN     Ads  Chrome   M   43  2.177280e+09      1   \n",
       "95999  AVGWGXJMCNHFY  Direct  Chrome   F   37  2.056748e+09      0   \n",
       "\n",
       "             country  \n",
       "95997       Bulgaria  \n",
       "95998  United States  \n",
       "95999      Australia  "
      ]
     },
     "execution_count": 19,
     "metadata": {},
     "output_type": "execute_result"
    }
   ],
   "source": [
    "df_train.tail(3)"
   ]
  },
  {
   "cell_type": "code",
   "execution_count": 20,
   "id": "a484325b",
   "metadata": {},
   "outputs": [
    {
     "data": {
      "text/html": [
       "<div>\n",
       "<style scoped>\n",
       "    .dataframe tbody tr th:only-of-type {\n",
       "        vertical-align: middle;\n",
       "    }\n",
       "\n",
       "    .dataframe tbody tr th {\n",
       "        vertical-align: top;\n",
       "    }\n",
       "\n",
       "    .dataframe thead th {\n",
       "        text-align: right;\n",
       "    }\n",
       "</style>\n",
       "<table border=\"1\" class=\"dataframe\">\n",
       "  <thead>\n",
       "    <tr style=\"text-align: right;\">\n",
       "      <th></th>\n",
       "      <th>user_id</th>\n",
       "      <th>signup_time</th>\n",
       "      <th>purchase_time</th>\n",
       "      <th>purchase_value</th>\n",
       "      <th>device_id</th>\n",
       "      <th>source</th>\n",
       "      <th>browser</th>\n",
       "      <th>sex</th>\n",
       "      <th>age</th>\n",
       "      <th>ip_address</th>\n",
       "      <th>class</th>\n",
       "      <th>country</th>\n",
       "    </tr>\n",
       "  </thead>\n",
       "  <tbody>\n",
       "    <tr>\n",
       "      <th>96000</th>\n",
       "      <td>193125</td>\n",
       "      <td>2015-06-30 23:18:23</td>\n",
       "      <td>2015-09-01 15:39:26</td>\n",
       "      <td>9</td>\n",
       "      <td>IFMCHPMYFWIMI</td>\n",
       "      <td>Ads</td>\n",
       "      <td>Chrome</td>\n",
       "      <td>F</td>\n",
       "      <td>34</td>\n",
       "      <td>3.611508e+09</td>\n",
       "      <td>0</td>\n",
       "      <td>United States</td>\n",
       "    </tr>\n",
       "    <tr>\n",
       "      <th>96001</th>\n",
       "      <td>294823</td>\n",
       "      <td>2015-06-30 23:19:04</td>\n",
       "      <td>2015-10-16 10:34:41</td>\n",
       "      <td>57</td>\n",
       "      <td>RIMPMUBEETXTZ</td>\n",
       "      <td>Ads</td>\n",
       "      <td>IE</td>\n",
       "      <td>M</td>\n",
       "      <td>33</td>\n",
       "      <td>1.934021e+08</td>\n",
       "      <td>0</td>\n",
       "      <td>United States</td>\n",
       "    </tr>\n",
       "    <tr>\n",
       "      <th>96002</th>\n",
       "      <td>91188</td>\n",
       "      <td>2015-06-30 23:20:13</td>\n",
       "      <td>2015-07-07 22:53:13</td>\n",
       "      <td>74</td>\n",
       "      <td>VHHMBZZYCJPDA</td>\n",
       "      <td>Ads</td>\n",
       "      <td>Chrome</td>\n",
       "      <td>M</td>\n",
       "      <td>31</td>\n",
       "      <td>5.421422e+08</td>\n",
       "      <td>0</td>\n",
       "      <td>United States</td>\n",
       "    </tr>\n",
       "  </tbody>\n",
       "</table>\n",
       "</div>"
      ],
      "text/plain": [
       "       user_id         signup_time       purchase_time  purchase_value  \\\n",
       "96000   193125 2015-06-30 23:18:23 2015-09-01 15:39:26               9   \n",
       "96001   294823 2015-06-30 23:19:04 2015-10-16 10:34:41              57   \n",
       "96002    91188 2015-06-30 23:20:13 2015-07-07 22:53:13              74   \n",
       "\n",
       "           device_id source browser sex  age    ip_address  class  \\\n",
       "96000  IFMCHPMYFWIMI    Ads  Chrome   F   34  3.611508e+09      0   \n",
       "96001  RIMPMUBEETXTZ    Ads      IE   M   33  1.934021e+08      0   \n",
       "96002  VHHMBZZYCJPDA    Ads  Chrome   M   31  5.421422e+08      0   \n",
       "\n",
       "             country  \n",
       "96000  United States  \n",
       "96001  United States  \n",
       "96002  United States  "
      ]
     },
     "execution_count": 20,
     "metadata": {},
     "output_type": "execute_result"
    }
   ],
   "source": [
    "df_test.head(3)"
   ]
  },
  {
   "cell_type": "markdown",
   "id": "2fa38a91",
   "metadata": {},
   "source": [
    "To further verify, the shape of each is outputted below."
   ]
  },
  {
   "cell_type": "code",
   "execution_count": 21,
   "id": "7c76551c",
   "metadata": {},
   "outputs": [
    {
     "data": {
      "text/plain": [
       "(96000, 12)"
      ]
     },
     "execution_count": 21,
     "metadata": {},
     "output_type": "execute_result"
    }
   ],
   "source": [
    "df_train.shape"
   ]
  },
  {
   "cell_type": "code",
   "execution_count": 22,
   "id": "07dc3784",
   "metadata": {},
   "outputs": [
    {
     "data": {
      "text/plain": [
       "(24000, 12)"
      ]
     },
     "execution_count": 22,
     "metadata": {},
     "output_type": "execute_result"
    }
   ],
   "source": [
    "df_test.shape"
   ]
  },
  {
   "cell_type": "markdown",
   "id": "1436b2a2",
   "metadata": {},
   "source": [
    "Write the dataset to disk."
   ]
  },
  {
   "cell_type": "code",
   "execution_count": 23,
   "id": "0ccad8b0",
   "metadata": {},
   "outputs": [],
   "source": [
    "df_train.to_csv(\"train.csv\", index=False)\n",
    "df_test.to_csv(\"test.csv\", index=False)\n"
   ]
  },
  {
   "cell_type": "markdown",
   "id": "d8e7a4c8",
   "metadata": {},
   "source": [
    "## Summary statistics of simple continuous and categorical columns\n",
    "\n",
    "Summary statistics for some of the \"simpler\" continuous and categorical columns:\n",
    "\n",
    "* Continuous\n",
    "    * purchase_value\n",
    "    * age\n",
    "* Categorical\n",
    "    * source\n",
    "    * browser\n",
    "    * sex\n",
    "    * country\n",
    "    * class\n",
    "\n",
    "### purchase_value"
   ]
  },
  {
   "cell_type": "code",
   "execution_count": 24,
   "id": "c62768ff",
   "metadata": {},
   "outputs": [
    {
     "data": {
      "text/html": [
       "<div>\n",
       "<style scoped>\n",
       "    .dataframe tbody tr th:only-of-type {\n",
       "        vertical-align: middle;\n",
       "    }\n",
       "\n",
       "    .dataframe tbody tr th {\n",
       "        vertical-align: top;\n",
       "    }\n",
       "\n",
       "    .dataframe thead th {\n",
       "        text-align: right;\n",
       "    }\n",
       "</style>\n",
       "<table border=\"1\" class=\"dataframe\">\n",
       "  <thead>\n",
       "    <tr style=\"text-align: right;\">\n",
       "      <th></th>\n",
       "      <th>purchase_value</th>\n",
       "      <th>age</th>\n",
       "    </tr>\n",
       "  </thead>\n",
       "  <tbody>\n",
       "    <tr>\n",
       "      <th>count</th>\n",
       "      <td>96000.000000</td>\n",
       "      <td>96000.000000</td>\n",
       "    </tr>\n",
       "    <tr>\n",
       "      <th>mean</th>\n",
       "      <td>36.858146</td>\n",
       "      <td>33.134917</td>\n",
       "    </tr>\n",
       "    <tr>\n",
       "      <th>std</th>\n",
       "      <td>18.354777</td>\n",
       "      <td>8.625734</td>\n",
       "    </tr>\n",
       "    <tr>\n",
       "      <th>min</th>\n",
       "      <td>9.000000</td>\n",
       "      <td>18.000000</td>\n",
       "    </tr>\n",
       "    <tr>\n",
       "      <th>25%</th>\n",
       "      <td>22.000000</td>\n",
       "      <td>27.000000</td>\n",
       "    </tr>\n",
       "    <tr>\n",
       "      <th>50%</th>\n",
       "      <td>34.000000</td>\n",
       "      <td>33.000000</td>\n",
       "    </tr>\n",
       "    <tr>\n",
       "      <th>75%</th>\n",
       "      <td>49.000000</td>\n",
       "      <td>39.000000</td>\n",
       "    </tr>\n",
       "    <tr>\n",
       "      <th>max</th>\n",
       "      <td>154.000000</td>\n",
       "      <td>76.000000</td>\n",
       "    </tr>\n",
       "  </tbody>\n",
       "</table>\n",
       "</div>"
      ],
      "text/plain": [
       "       purchase_value           age\n",
       "count    96000.000000  96000.000000\n",
       "mean        36.858146     33.134917\n",
       "std         18.354777      8.625734\n",
       "min          9.000000     18.000000\n",
       "25%         22.000000     27.000000\n",
       "50%         34.000000     33.000000\n",
       "75%         49.000000     39.000000\n",
       "max        154.000000     76.000000"
      ]
     },
     "execution_count": 24,
     "metadata": {},
     "output_type": "execute_result"
    }
   ],
   "source": [
    "df_train[[\"purchase_value\", \"age\"]].describe()"
   ]
  },
  {
   "cell_type": "markdown",
   "id": "1c7aa4f5",
   "metadata": {},
   "source": [
    "A Histogram, KDE, and boxplot are created to better understand the distribution of purchase value. It appears fairly uniform between 10 and 40 and then drops off quickly."
   ]
  },
  {
   "cell_type": "code",
   "execution_count": 25,
   "id": "bb32e1a9",
   "metadata": {},
   "outputs": [
    {
     "data": {
      "image/png": "[encoded data removed]",
      "text/plain": [
       "<Figure size 720x288 with 1 Axes>"
      ]
     },
     "metadata": {},
     "output_type": "display_data"
    }
   ],
   "source": [
    "fig, ax = plt.subplots(figsize=(5, 2))\n",
    "sns.histplot(data=df_train, x=\"purchase_value\", kde=True, bins=30, ax=ax);\n"
   ]
  },
  {
   "cell_type": "markdown",
   "id": "a81640cb",
   "metadata": {},
   "source": [
    "Age is more normally distributed."
   ]
  },
  {
   "cell_type": "code",
   "execution_count": 26,
   "id": "ab89b72c",
   "metadata": {},
   "outputs": [
    {
     "data": {
      "image/png": "[encoded data removed]",
      "text/plain": [
       "<Figure size 720x288 with 1 Axes>"
      ]
     },
     "metadata": {},
     "output_type": "display_data"
    }
   ],
   "source": [
    "fig, ax = plt.subplots(figsize=(5, 2))\n",
    "sns.histplot(data=df_train, x=\"age\", kde=True, bins=30, ax=ax);\n"
   ]
  },
  {
   "cell_type": "code",
   "execution_count": 27,
   "id": "6fd99dea",
   "metadata": {},
   "outputs": [
    {
     "data": {
      "image/png": "[encoded data removed]",
      "text/plain": [
       "<Figure size 576x259.2 with 1 Axes>"
      ]
     },
     "metadata": {},
     "output_type": "display_data"
    }
   ],
   "source": [
    "fig, ax = plt.subplots(figsize=(4, 1.8))\n",
    "sns.boxplot(data=df_train, x=\"purchase_value\");\n"
   ]
  },
  {
   "cell_type": "markdown",
   "id": "e5311267",
   "metadata": {},
   "source": [
    "### source"
   ]
  },
  {
   "cell_type": "code",
   "execution_count": 28,
   "id": "89a79070",
   "metadata": {},
   "outputs": [
    {
     "data": {
      "text/plain": [
       "source\n",
       "SEO       0.403167\n",
       "Ads       0.395021\n",
       "Direct    0.201813\n",
       "Name: proportion, dtype: float64"
      ]
     },
     "execution_count": 28,
     "metadata": {},
     "output_type": "execute_result"
    }
   ],
   "source": [
    "df_train[\"source\"].value_counts(normalize=True)"
   ]
  },
  {
   "cell_type": "markdown",
   "id": "b2759b91",
   "metadata": {},
   "source": [
    "### browser"
   ]
  },
  {
   "cell_type": "code",
   "execution_count": 29,
   "id": "df474cf7",
   "metadata": {},
   "outputs": [
    {
     "data": {
      "text/plain": [
       "browser\n",
       "Chrome     38981\n",
       "IE         23260\n",
       "FireFox    15690\n",
       "Safari     15687\n",
       "Opera       2382\n",
       "Name: count, dtype: int64"
      ]
     },
     "execution_count": 29,
     "metadata": {},
     "output_type": "execute_result"
    }
   ],
   "source": [
    "df_train[\"browser\"].value_counts()"
   ]
  },
  {
   "cell_type": "markdown",
   "id": "5577df5a",
   "metadata": {},
   "source": [
    "### sex"
   ]
  },
  {
   "cell_type": "code",
   "execution_count": 30,
   "id": "62778bdd",
   "metadata": {},
   "outputs": [
    {
     "data": {
      "text/plain": [
       "sex\n",
       "M    56087\n",
       "F    39913\n",
       "Name: count, dtype: int64"
      ]
     },
     "execution_count": 30,
     "metadata": {},
     "output_type": "execute_result"
    }
   ],
   "source": [
    "df_train[\"sex\"].value_counts()"
   ]
  },
  {
   "cell_type": "markdown",
   "id": "2e278e13",
   "metadata": {},
   "source": [
    "### country"
   ]
  },
  {
   "cell_type": "code",
   "execution_count": 31,
   "id": "e7853f70",
   "metadata": {
    "scrolled": false
   },
   "outputs": [
    {
     "data": {
      "text/plain": [
       "country\n",
       "United States     36977\n",
       "Unknown           13882\n",
       "China              7595\n",
       "Japan              4622\n",
       "United Kingdom     2869\n",
       "Name: count, dtype: int64"
      ]
     },
     "execution_count": 31,
     "metadata": {},
     "output_type": "execute_result"
    }
   ],
   "source": [
    "s = df_train[\"country\"].value_counts()\n",
    "s.head()\n"
   ]
  },
  {
   "cell_type": "markdown",
   "id": "c12ba255",
   "metadata": {},
   "source": [
    "Find percent of countries that appear less than 50 times."
   ]
  },
  {
   "cell_type": "code",
   "execution_count": 32,
   "id": "0df1e79b",
   "metadata": {},
   "outputs": [
    {
     "data": {
      "text/plain": [
       "61.0"
      ]
     },
     "execution_count": 32,
     "metadata": {},
     "output_type": "execute_result"
    }
   ],
   "source": [
    "round((s < 50).mean(), 3) * 100"
   ]
  },
  {
   "cell_type": "markdown",
   "id": "bcdb2174",
   "metadata": {},
   "source": [
    "## class\n",
    "\n",
    "Get frequency"
   ]
  },
  {
   "cell_type": "code",
   "execution_count": 33,
   "id": "809eba76",
   "metadata": {},
   "outputs": [
    {
     "data": {
      "text/plain": [
       "class\n",
       "0    85845\n",
       "1    10155\n",
       "Name: count, dtype: int64"
      ]
     },
     "execution_count": 33,
     "metadata": {},
     "output_type": "execute_result"
    }
   ],
   "source": [
    "df_train[\"class\"].value_counts()"
   ]
  },
  {
   "cell_type": "markdown",
   "id": "6489c345",
   "metadata": {},
   "source": [
    "10.6% are fraud"
   ]
  },
  {
   "cell_type": "code",
   "execution_count": 34,
   "id": "81dbf202",
   "metadata": {},
   "outputs": [
    {
     "data": {
      "text/plain": [
       "class\n",
       "0    89.4\n",
       "1    10.6\n",
       "Name: proportion, dtype: float64"
      ]
     },
     "execution_count": 34,
     "metadata": {},
     "output_type": "execute_result"
    }
   ],
   "source": [
    "df_train[\"class\"].value_counts(normalize=True).round(3) * 100"
   ]
  },
  {
   "cell_type": "markdown",
   "id": "69d59dc3",
   "metadata": {},
   "source": [
    "## Univariate exploration\n",
    "\n",
    "Explore relationship to target with these simple columns. Let's see if we discover any values that are sufficiently different than the 10.6% fraud.\n",
    "\n",
    "There is a small signal here with source. Direct is 1% more fraud."
   ]
  },
  {
   "cell_type": "code",
   "execution_count": 35,
   "id": "92d31eff",
   "metadata": {},
   "outputs": [
    {
     "name": "stderr",
     "output_type": "stream",
     "text": [
      "C:\\Users\\eorlo\\AppData\\Local\\Temp\\ipykernel_4460\\457251746.py:1: FutureWarning: The default of observed=False is deprecated and will be changed to True in a future version of pandas. Pass observed=False to retain current behavior or observed=True to adopt the future default and silence this warning.\n",
      "  df_train.groupby(\"source\").agg(count=(\"class\", \"size\"), perc_fraud=(\"class\", \"mean\"))\n"
     ]
    },
    {
     "data": {
      "text/html": [
       "<div>\n",
       "<style scoped>\n",
       "    .dataframe tbody tr th:only-of-type {\n",
       "        vertical-align: middle;\n",
       "    }\n",
       "\n",
       "    .dataframe tbody tr th {\n",
       "        vertical-align: top;\n",
       "    }\n",
       "\n",
       "    .dataframe thead th {\n",
       "        text-align: right;\n",
       "    }\n",
       "</style>\n",
       "<table border=\"1\" class=\"dataframe\">\n",
       "  <thead>\n",
       "    <tr style=\"text-align: right;\">\n",
       "      <th></th>\n",
       "      <th>count</th>\n",
       "      <th>perc_fraud</th>\n",
       "    </tr>\n",
       "    <tr>\n",
       "      <th>source</th>\n",
       "      <th></th>\n",
       "      <th></th>\n",
       "    </tr>\n",
       "  </thead>\n",
       "  <tbody>\n",
       "    <tr>\n",
       "      <th>Ads</th>\n",
       "      <td>37922</td>\n",
       "      <td>0.103845</td>\n",
       "    </tr>\n",
       "    <tr>\n",
       "      <th>Direct</th>\n",
       "      <td>19374</td>\n",
       "      <td>0.118613</td>\n",
       "    </tr>\n",
       "    <tr>\n",
       "      <th>SEO</th>\n",
       "      <td>38704</td>\n",
       "      <td>0.101256</td>\n",
       "    </tr>\n",
       "  </tbody>\n",
       "</table>\n",
       "</div>"
      ],
      "text/plain": [
       "        count  perc_fraud\n",
       "source                   \n",
       "Ads     37922    0.103845\n",
       "Direct  19374    0.118613\n",
       "SEO     38704    0.101256"
      ]
     },
     "execution_count": 35,
     "metadata": {},
     "output_type": "execute_result"
    }
   ],
   "source": [
    "df_train.groupby(\"source\").agg(count=(\"class\", \"size\"), perc_fraud=(\"class\", \"mean\"))"
   ]
  },
  {
   "cell_type": "markdown",
   "id": "9299c9c8",
   "metadata": {},
   "source": [
    "Browser does not appear to have much signal. IE has slightly lower fraud."
   ]
  },
  {
   "cell_type": "code",
   "execution_count": 36,
   "id": "078bcb97",
   "metadata": {
    "scrolled": true
   },
   "outputs": [
    {
     "name": "stderr",
     "output_type": "stream",
     "text": [
      "C:\\Users\\eorlo\\AppData\\Local\\Temp\\ipykernel_4460\\2162988225.py:1: FutureWarning: The default of observed=False is deprecated and will be changed to True in a future version of pandas. Pass observed=False to retain current behavior or observed=True to adopt the future default and silence this warning.\n",
      "  df_train.groupby(\"browser\").agg(count=(\"class\", \"size\"), perc_fraud=(\"class\", \"mean\"))\n"
     ]
    },
    {
     "data": {
      "text/html": [
       "<div>\n",
       "<style scoped>\n",
       "    .dataframe tbody tr th:only-of-type {\n",
       "        vertical-align: middle;\n",
       "    }\n",
       "\n",
       "    .dataframe tbody tr th {\n",
       "        vertical-align: top;\n",
       "    }\n",
       "\n",
       "    .dataframe thead th {\n",
       "        text-align: right;\n",
       "    }\n",
       "</style>\n",
       "<table border=\"1\" class=\"dataframe\">\n",
       "  <thead>\n",
       "    <tr style=\"text-align: right;\">\n",
       "      <th></th>\n",
       "      <th>count</th>\n",
       "      <th>perc_fraud</th>\n",
       "    </tr>\n",
       "    <tr>\n",
       "      <th>browser</th>\n",
       "      <th></th>\n",
       "      <th></th>\n",
       "    </tr>\n",
       "  </thead>\n",
       "  <tbody>\n",
       "    <tr>\n",
       "      <th>Chrome</th>\n",
       "      <td>38981</td>\n",
       "      <td>0.112516</td>\n",
       "    </tr>\n",
       "    <tr>\n",
       "      <th>FireFox</th>\n",
       "      <td>15690</td>\n",
       "      <td>0.106883</td>\n",
       "    </tr>\n",
       "    <tr>\n",
       "      <th>IE</th>\n",
       "      <td>23260</td>\n",
       "      <td>0.096303</td>\n",
       "    </tr>\n",
       "    <tr>\n",
       "      <th>Opera</th>\n",
       "      <td>2382</td>\n",
       "      <td>0.102015</td>\n",
       "    </tr>\n",
       "    <tr>\n",
       "      <th>Safari</th>\n",
       "      <td>15687</td>\n",
       "      <td>0.102569</td>\n",
       "    </tr>\n",
       "  </tbody>\n",
       "</table>\n",
       "</div>"
      ],
      "text/plain": [
       "         count  perc_fraud\n",
       "browser                   \n",
       "Chrome   38981    0.112516\n",
       "FireFox  15690    0.106883\n",
       "IE       23260    0.096303\n",
       "Opera     2382    0.102015\n",
       "Safari   15687    0.102569"
      ]
     },
     "execution_count": 36,
     "metadata": {},
     "output_type": "execute_result"
    }
   ],
   "source": [
    "df_train.groupby(\"browser\").agg(count=(\"class\", \"size\"), perc_fraud=(\"class\", \"mean\"))"
   ]
  },
  {
   "cell_type": "markdown",
   "id": "b8d80866",
   "metadata": {},
   "source": [
    "Slightly more fraud by males."
   ]
  },
  {
   "cell_type": "code",
   "execution_count": 37,
   "id": "ae6f6c99",
   "metadata": {},
   "outputs": [
    {
     "name": "stderr",
     "output_type": "stream",
     "text": [
      "C:\\Users\\eorlo\\AppData\\Local\\Temp\\ipykernel_4460\\1587004642.py:1: FutureWarning: The default of observed=False is deprecated and will be changed to True in a future version of pandas. Pass observed=False to retain current behavior or observed=True to adopt the future default and silence this warning.\n",
      "  df_train.groupby(\"sex\").agg(count=(\"class\", \"size\"), perc_fraud=(\"class\", \"mean\"))\n"
     ]
    },
    {
     "data": {
      "text/html": [
       "<div>\n",
       "<style scoped>\n",
       "    .dataframe tbody tr th:only-of-type {\n",
       "        vertical-align: middle;\n",
       "    }\n",
       "\n",
       "    .dataframe tbody tr th {\n",
       "        vertical-align: top;\n",
       "    }\n",
       "\n",
       "    .dataframe thead th {\n",
       "        text-align: right;\n",
       "    }\n",
       "</style>\n",
       "<table border=\"1\" class=\"dataframe\">\n",
       "  <thead>\n",
       "    <tr style=\"text-align: right;\">\n",
       "      <th></th>\n",
       "      <th>count</th>\n",
       "      <th>perc_fraud</th>\n",
       "    </tr>\n",
       "    <tr>\n",
       "      <th>sex</th>\n",
       "      <th></th>\n",
       "      <th></th>\n",
       "    </tr>\n",
       "  </thead>\n",
       "  <tbody>\n",
       "    <tr>\n",
       "      <th>F</th>\n",
       "      <td>39913</td>\n",
       "      <td>0.102799</td>\n",
       "    </tr>\n",
       "    <tr>\n",
       "      <th>M</th>\n",
       "      <td>56087</td>\n",
       "      <td>0.107904</td>\n",
       "    </tr>\n",
       "  </tbody>\n",
       "</table>\n",
       "</div>"
      ],
      "text/plain": [
       "     count  perc_fraud\n",
       "sex                   \n",
       "F    39913    0.102799\n",
       "M    56087    0.107904"
      ]
     },
     "execution_count": 37,
     "metadata": {},
     "output_type": "execute_result"
    }
   ],
   "source": [
    "df_train.groupby(\"sex\").agg(count=(\"class\", \"size\"), perc_fraud=(\"class\", \"mean\"))"
   ]
  },
  {
   "cell_type": "markdown",
   "id": "d077d673",
   "metadata": {},
   "source": [
    "Look at the highest and lowest fraud by countries with more than 50 transactions. There appears to be much more signal here (though smaller counts)."
   ]
  },
  {
   "cell_type": "code",
   "execution_count": 38,
   "id": "ba5bbc4c",
   "metadata": {},
   "outputs": [
    {
     "name": "stderr",
     "output_type": "stream",
     "text": [
      "C:\\Users\\eorlo\\AppData\\Local\\Temp\\ipykernel_4460\\1760579556.py:1: FutureWarning: The default of observed=False is deprecated and will be changed to True in a future version of pandas. Pass observed=False to retain current behavior or observed=True to adopt the future default and silence this warning.\n",
      "  df_country = df_train.groupby(\"country\").agg(\n"
     ]
    },
    {
     "data": {
      "text/html": [
       "<div>\n",
       "<style scoped>\n",
       "    .dataframe tbody tr th:only-of-type {\n",
       "        vertical-align: middle;\n",
       "    }\n",
       "\n",
       "    .dataframe tbody tr th {\n",
       "        vertical-align: top;\n",
       "    }\n",
       "\n",
       "    .dataframe thead th {\n",
       "        text-align: right;\n",
       "    }\n",
       "</style>\n",
       "<table border=\"1\" class=\"dataframe\">\n",
       "  <thead>\n",
       "    <tr style=\"text-align: right;\">\n",
       "      <th></th>\n",
       "      <th>count</th>\n",
       "      <th>perc_fraud</th>\n",
       "    </tr>\n",
       "    <tr>\n",
       "      <th>country</th>\n",
       "      <th></th>\n",
       "      <th></th>\n",
       "    </tr>\n",
       "  </thead>\n",
       "  <tbody>\n",
       "    <tr>\n",
       "      <th>Peru</th>\n",
       "      <td>74</td>\n",
       "      <td>0.351351</td>\n",
       "    </tr>\n",
       "    <tr>\n",
       "      <th>Ecuador</th>\n",
       "      <td>68</td>\n",
       "      <td>0.323529</td>\n",
       "    </tr>\n",
       "    <tr>\n",
       "      <th>Tunisia</th>\n",
       "      <td>78</td>\n",
       "      <td>0.294872</td>\n",
       "    </tr>\n",
       "    <tr>\n",
       "      <th>Kuwait</th>\n",
       "      <td>60</td>\n",
       "      <td>0.266667</td>\n",
       "    </tr>\n",
       "    <tr>\n",
       "      <th>Ireland</th>\n",
       "      <td>169</td>\n",
       "      <td>0.266272</td>\n",
       "    </tr>\n",
       "    <tr>\n",
       "      <th>Lithuania</th>\n",
       "      <td>62</td>\n",
       "      <td>0.258065</td>\n",
       "    </tr>\n",
       "    <tr>\n",
       "      <th>Saudi Arabia</th>\n",
       "      <td>181</td>\n",
       "      <td>0.243094</td>\n",
       "    </tr>\n",
       "    <tr>\n",
       "      <th>New Zealand</th>\n",
       "      <td>186</td>\n",
       "      <td>0.225806</td>\n",
       "    </tr>\n",
       "    <tr>\n",
       "      <th>Denmark</th>\n",
       "      <td>309</td>\n",
       "      <td>0.184466</td>\n",
       "    </tr>\n",
       "    <tr>\n",
       "      <th>Venezuela</th>\n",
       "      <td>152</td>\n",
       "      <td>0.184211</td>\n",
       "    </tr>\n",
       "    <tr>\n",
       "      <th>Chile</th>\n",
       "      <td>268</td>\n",
       "      <td>0.175373</td>\n",
       "    </tr>\n",
       "    <tr>\n",
       "      <th>Belgium</th>\n",
       "      <td>252</td>\n",
       "      <td>0.162698</td>\n",
       "    </tr>\n",
       "    <tr>\n",
       "      <th>United Arab Emirates</th>\n",
       "      <td>74</td>\n",
       "      <td>0.162162</td>\n",
       "    </tr>\n",
       "    <tr>\n",
       "      <th>Greece</th>\n",
       "      <td>145</td>\n",
       "      <td>0.151724</td>\n",
       "    </tr>\n",
       "    <tr>\n",
       "      <th>Ukraine</th>\n",
       "      <td>285</td>\n",
       "      <td>0.150877</td>\n",
       "    </tr>\n",
       "  </tbody>\n",
       "</table>\n",
       "</div>"
      ],
      "text/plain": [
       "                      count  perc_fraud\n",
       "country                                \n",
       "Peru                     74    0.351351\n",
       "Ecuador                  68    0.323529\n",
       "Tunisia                  78    0.294872\n",
       "Kuwait                   60    0.266667\n",
       "Ireland                 169    0.266272\n",
       "Lithuania                62    0.258065\n",
       "Saudi Arabia            181    0.243094\n",
       "New Zealand             186    0.225806\n",
       "Denmark                 309    0.184466\n",
       "Venezuela               152    0.184211\n",
       "Chile                   268    0.175373\n",
       "Belgium                 252    0.162698\n",
       "United Arab Emirates     74    0.162162\n",
       "Greece                  145    0.151724\n",
       "Ukraine                 285    0.150877"
      ]
     },
     "execution_count": 38,
     "metadata": {},
     "output_type": "execute_result"
    }
   ],
   "source": [
    "df_country = df_train.groupby(\"country\").agg(\n",
    "    count=(\"class\", \"size\"), perc_fraud=(\"class\", \"mean\")\n",
    ")\n",
    "df_country.query(\"count > 50\").nlargest(15, \"perc_fraud\")\n"
   ]
  },
  {
   "cell_type": "code",
   "execution_count": 39,
   "id": "008957b1",
   "metadata": {},
   "outputs": [
    {
     "data": {
      "text/html": [
       "<div>\n",
       "<style scoped>\n",
       "    .dataframe tbody tr th:only-of-type {\n",
       "        vertical-align: middle;\n",
       "    }\n",
       "\n",
       "    .dataframe tbody tr th {\n",
       "        vertical-align: top;\n",
       "    }\n",
       "\n",
       "    .dataframe thead th {\n",
       "        text-align: right;\n",
       "    }\n",
       "</style>\n",
       "<table border=\"1\" class=\"dataframe\">\n",
       "  <thead>\n",
       "    <tr style=\"text-align: right;\">\n",
       "      <th></th>\n",
       "      <th>count</th>\n",
       "      <th>perc_fraud</th>\n",
       "    </tr>\n",
       "    <tr>\n",
       "      <th>country</th>\n",
       "      <th></th>\n",
       "      <th></th>\n",
       "    </tr>\n",
       "  </thead>\n",
       "  <tbody>\n",
       "    <tr>\n",
       "      <th>Slovenia</th>\n",
       "      <td>57</td>\n",
       "      <td>0.000000</td>\n",
       "    </tr>\n",
       "    <tr>\n",
       "      <th>Bulgaria</th>\n",
       "      <td>102</td>\n",
       "      <td>0.009804</td>\n",
       "    </tr>\n",
       "    <tr>\n",
       "      <th>Morocco</th>\n",
       "      <td>106</td>\n",
       "      <td>0.028302</td>\n",
       "    </tr>\n",
       "    <tr>\n",
       "      <th>Pakistan</th>\n",
       "      <td>117</td>\n",
       "      <td>0.034188</td>\n",
       "    </tr>\n",
       "    <tr>\n",
       "      <th>Israel</th>\n",
       "      <td>169</td>\n",
       "      <td>0.035503</td>\n",
       "    </tr>\n",
       "    <tr>\n",
       "      <th>Kazakhstan</th>\n",
       "      <td>52</td>\n",
       "      <td>0.038462</td>\n",
       "    </tr>\n",
       "    <tr>\n",
       "      <th>Portugal</th>\n",
       "      <td>140</td>\n",
       "      <td>0.042857</td>\n",
       "    </tr>\n",
       "    <tr>\n",
       "      <th>Slovakia (SLOVAK Republic)</th>\n",
       "      <td>57</td>\n",
       "      <td>0.052632</td>\n",
       "    </tr>\n",
       "    <tr>\n",
       "      <th>European Union</th>\n",
       "      <td>160</td>\n",
       "      <td>0.056250</td>\n",
       "    </tr>\n",
       "    <tr>\n",
       "      <th>Romania</th>\n",
       "      <td>333</td>\n",
       "      <td>0.057057</td>\n",
       "    </tr>\n",
       "    <tr>\n",
       "      <th>Poland</th>\n",
       "      <td>454</td>\n",
       "      <td>0.057269</td>\n",
       "    </tr>\n",
       "    <tr>\n",
       "      <th>Malaysia</th>\n",
       "      <td>136</td>\n",
       "      <td>0.058824</td>\n",
       "    </tr>\n",
       "    <tr>\n",
       "      <th>Philippines</th>\n",
       "      <td>95</td>\n",
       "      <td>0.063158</td>\n",
       "    </tr>\n",
       "    <tr>\n",
       "      <th>Thailand</th>\n",
       "      <td>193</td>\n",
       "      <td>0.072539</td>\n",
       "    </tr>\n",
       "    <tr>\n",
       "      <th>Viet Nam</th>\n",
       "      <td>338</td>\n",
       "      <td>0.073964</td>\n",
       "    </tr>\n",
       "  </tbody>\n",
       "</table>\n",
       "</div>"
      ],
      "text/plain": [
       "                            count  perc_fraud\n",
       "country                                      \n",
       "Slovenia                       57    0.000000\n",
       "Bulgaria                      102    0.009804\n",
       "Morocco                       106    0.028302\n",
       "Pakistan                      117    0.034188\n",
       "Israel                        169    0.035503\n",
       "Kazakhstan                     52    0.038462\n",
       "Portugal                      140    0.042857\n",
       "Slovakia (SLOVAK Republic)     57    0.052632\n",
       "European Union                160    0.056250\n",
       "Romania                       333    0.057057\n",
       "Poland                        454    0.057269\n",
       "Malaysia                      136    0.058824\n",
       "Philippines                    95    0.063158\n",
       "Thailand                      193    0.072539\n",
       "Viet Nam                      338    0.073964"
      ]
     },
     "execution_count": 39,
     "metadata": {},
     "output_type": "execute_result"
    }
   ],
   "source": [
    "df_country.query(\"count > 50\").nsmallest(15, \"perc_fraud\")"
   ]
  },
  {
   "cell_type": "markdown",
   "id": "492c0cde",
   "metadata": {},
   "source": [
    "Looking at the top 15 larges countries, most are around the average."
   ]
  },
  {
   "cell_type": "code",
   "execution_count": 40,
   "id": "1acc35a7",
   "metadata": {},
   "outputs": [
    {
     "data": {
      "text/html": [
       "<div>\n",
       "<style scoped>\n",
       "    .dataframe tbody tr th:only-of-type {\n",
       "        vertical-align: middle;\n",
       "    }\n",
       "\n",
       "    .dataframe tbody tr th {\n",
       "        vertical-align: top;\n",
       "    }\n",
       "\n",
       "    .dataframe thead th {\n",
       "        text-align: right;\n",
       "    }\n",
       "</style>\n",
       "<table border=\"1\" class=\"dataframe\">\n",
       "  <thead>\n",
       "    <tr style=\"text-align: right;\">\n",
       "      <th></th>\n",
       "      <th>count</th>\n",
       "      <th>perc_fraud</th>\n",
       "    </tr>\n",
       "    <tr>\n",
       "      <th>country</th>\n",
       "      <th></th>\n",
       "      <th></th>\n",
       "    </tr>\n",
       "  </thead>\n",
       "  <tbody>\n",
       "    <tr>\n",
       "      <th>United States</th>\n",
       "      <td>36977</td>\n",
       "      <td>0.108797</td>\n",
       "    </tr>\n",
       "    <tr>\n",
       "      <th>Unknown</th>\n",
       "      <td>13882</td>\n",
       "      <td>0.096600</td>\n",
       "    </tr>\n",
       "    <tr>\n",
       "      <th>China</th>\n",
       "      <td>7595</td>\n",
       "      <td>0.094799</td>\n",
       "    </tr>\n",
       "    <tr>\n",
       "      <th>Japan</th>\n",
       "      <td>4622</td>\n",
       "      <td>0.109693</td>\n",
       "    </tr>\n",
       "    <tr>\n",
       "      <th>United Kingdom</th>\n",
       "      <td>2869</td>\n",
       "      <td>0.117114</td>\n",
       "    </tr>\n",
       "    <tr>\n",
       "      <th>Korea Republic of</th>\n",
       "      <td>2644</td>\n",
       "      <td>0.103253</td>\n",
       "    </tr>\n",
       "    <tr>\n",
       "      <th>Germany</th>\n",
       "      <td>2311</td>\n",
       "      <td>0.082215</td>\n",
       "    </tr>\n",
       "    <tr>\n",
       "      <th>France</th>\n",
       "      <td>1962</td>\n",
       "      <td>0.110601</td>\n",
       "    </tr>\n",
       "    <tr>\n",
       "      <th>Canada</th>\n",
       "      <td>1911</td>\n",
       "      <td>0.130822</td>\n",
       "    </tr>\n",
       "    <tr>\n",
       "      <th>Brazil</th>\n",
       "      <td>1884</td>\n",
       "      <td>0.105096</td>\n",
       "    </tr>\n",
       "    <tr>\n",
       "      <th>Italy</th>\n",
       "      <td>1272</td>\n",
       "      <td>0.094340</td>\n",
       "    </tr>\n",
       "    <tr>\n",
       "      <th>Australia</th>\n",
       "      <td>1188</td>\n",
       "      <td>0.106061</td>\n",
       "    </tr>\n",
       "    <tr>\n",
       "      <th>Netherlands</th>\n",
       "      <td>1053</td>\n",
       "      <td>0.080722</td>\n",
       "    </tr>\n",
       "    <tr>\n",
       "      <th>Russian Federation</th>\n",
       "      <td>1005</td>\n",
       "      <td>0.082587</td>\n",
       "    </tr>\n",
       "    <tr>\n",
       "      <th>India</th>\n",
       "      <td>812</td>\n",
       "      <td>0.130542</td>\n",
       "    </tr>\n",
       "  </tbody>\n",
       "</table>\n",
       "</div>"
      ],
      "text/plain": [
       "                    count  perc_fraud\n",
       "country                              \n",
       "United States       36977    0.108797\n",
       "Unknown             13882    0.096600\n",
       "China                7595    0.094799\n",
       "Japan                4622    0.109693\n",
       "United Kingdom       2869    0.117114\n",
       "Korea Republic of    2644    0.103253\n",
       "Germany              2311    0.082215\n",
       "France               1962    0.110601\n",
       "Canada               1911    0.130822\n",
       "Brazil               1884    0.105096\n",
       "Italy                1272    0.094340\n",
       "Australia            1188    0.106061\n",
       "Netherlands          1053    0.080722\n",
       "Russian Federation   1005    0.082587\n",
       "India                 812    0.130542"
      ]
     },
     "execution_count": 40,
     "metadata": {},
     "output_type": "execute_result"
    }
   ],
   "source": [
    "df_country.nlargest(15, \"count\")"
   ]
  },
  {
   "cell_type": "markdown",
   "id": "1120c76d",
   "metadata": {},
   "source": [
    "Here, the Pearson correlation coefficient is calculated on all of the numeric columns. There appears to be no relationship."
   ]
  },
  {
   "cell_type": "code",
   "execution_count": 41,
   "id": "535453a7",
   "metadata": {},
   "outputs": [
    {
     "ename": "ValueError",
     "evalue": "could not convert string to float: 'BBPACGBUVJUXF'",
     "output_type": "error",
     "traceback": [
      "\u001b[1;31m---------------------------------------------------------------------------\u001b[0m",
      "\u001b[1;31mValueError\u001b[0m                                Traceback (most recent call last)",
      "Cell \u001b[1;32mIn[41], line 1\u001b[0m\n\u001b[1;32m----> 1\u001b[0m \u001b[43mdf_train\u001b[49m\u001b[38;5;241;43m.\u001b[39;49m\u001b[43mcorr\u001b[49m\u001b[43m(\u001b[49m\u001b[43m)\u001b[49m[\u001b[38;5;124m\"\u001b[39m\u001b[38;5;124mclass\u001b[39m\u001b[38;5;124m\"\u001b[39m]\n",
      "File \u001b[1;32mc:\\Users\\eorlo\\.pyenv\\pyenv-win\\versions\\3.12.0\\Lib\\site-packages\\pandas\\core\\frame.py:11036\u001b[0m, in \u001b[0;36mDataFrame.corr\u001b[1;34m(self, method, min_periods, numeric_only)\u001b[0m\n\u001b[0;32m  11034\u001b[0m cols \u001b[38;5;241m=\u001b[39m data\u001b[38;5;241m.\u001b[39mcolumns\n\u001b[0;32m  11035\u001b[0m idx \u001b[38;5;241m=\u001b[39m cols\u001b[38;5;241m.\u001b[39mcopy()\n\u001b[1;32m> 11036\u001b[0m mat \u001b[38;5;241m=\u001b[39m \u001b[43mdata\u001b[49m\u001b[38;5;241;43m.\u001b[39;49m\u001b[43mto_numpy\u001b[49m\u001b[43m(\u001b[49m\u001b[43mdtype\u001b[49m\u001b[38;5;241;43m=\u001b[39;49m\u001b[38;5;28;43mfloat\u001b[39;49m\u001b[43m,\u001b[49m\u001b[43m \u001b[49m\u001b[43mna_value\u001b[49m\u001b[38;5;241;43m=\u001b[39;49m\u001b[43mnp\u001b[49m\u001b[38;5;241;43m.\u001b[39;49m\u001b[43mnan\u001b[49m\u001b[43m,\u001b[49m\u001b[43m \u001b[49m\u001b[43mcopy\u001b[49m\u001b[38;5;241;43m=\u001b[39;49m\u001b[38;5;28;43;01mFalse\u001b[39;49;00m\u001b[43m)\u001b[49m\n\u001b[0;32m  11038\u001b[0m \u001b[38;5;28;01mif\u001b[39;00m method \u001b[38;5;241m==\u001b[39m \u001b[38;5;124m\"\u001b[39m\u001b[38;5;124mpearson\u001b[39m\u001b[38;5;124m\"\u001b[39m:\n\u001b[0;32m  11039\u001b[0m     correl \u001b[38;5;241m=\u001b[39m libalgos\u001b[38;5;241m.\u001b[39mnancorr(mat, minp\u001b[38;5;241m=\u001b[39mmin_periods)\n",
      "File \u001b[1;32mc:\\Users\\eorlo\\.pyenv\\pyenv-win\\versions\\3.12.0\\Lib\\site-packages\\pandas\\core\\frame.py:1981\u001b[0m, in \u001b[0;36mDataFrame.to_numpy\u001b[1;34m(self, dtype, copy, na_value)\u001b[0m\n\u001b[0;32m   1979\u001b[0m \u001b[38;5;28;01mif\u001b[39;00m dtype \u001b[38;5;129;01mis\u001b[39;00m \u001b[38;5;129;01mnot\u001b[39;00m \u001b[38;5;28;01mNone\u001b[39;00m:\n\u001b[0;32m   1980\u001b[0m     dtype \u001b[38;5;241m=\u001b[39m np\u001b[38;5;241m.\u001b[39mdtype(dtype)\n\u001b[1;32m-> 1981\u001b[0m result \u001b[38;5;241m=\u001b[39m \u001b[38;5;28;43mself\u001b[39;49m\u001b[38;5;241;43m.\u001b[39;49m\u001b[43m_mgr\u001b[49m\u001b[38;5;241;43m.\u001b[39;49m\u001b[43mas_array\u001b[49m\u001b[43m(\u001b[49m\u001b[43mdtype\u001b[49m\u001b[38;5;241;43m=\u001b[39;49m\u001b[43mdtype\u001b[49m\u001b[43m,\u001b[49m\u001b[43m \u001b[49m\u001b[43mcopy\u001b[49m\u001b[38;5;241;43m=\u001b[39;49m\u001b[43mcopy\u001b[49m\u001b[43m,\u001b[49m\u001b[43m \u001b[49m\u001b[43mna_value\u001b[49m\u001b[38;5;241;43m=\u001b[39;49m\u001b[43mna_value\u001b[49m\u001b[43m)\u001b[49m\n\u001b[0;32m   1982\u001b[0m \u001b[38;5;28;01mif\u001b[39;00m result\u001b[38;5;241m.\u001b[39mdtype \u001b[38;5;129;01mis\u001b[39;00m \u001b[38;5;129;01mnot\u001b[39;00m dtype:\n\u001b[0;32m   1983\u001b[0m     result \u001b[38;5;241m=\u001b[39m np\u001b[38;5;241m.\u001b[39marray(result, dtype\u001b[38;5;241m=\u001b[39mdtype, copy\u001b[38;5;241m=\u001b[39m\u001b[38;5;28;01mFalse\u001b[39;00m)\n",
      "File \u001b[1;32mc:\\Users\\eorlo\\.pyenv\\pyenv-win\\versions\\3.12.0\\Lib\\site-packages\\pandas\\core\\internals\\managers.py:1692\u001b[0m, in \u001b[0;36mBlockManager.as_array\u001b[1;34m(self, dtype, copy, na_value)\u001b[0m\n\u001b[0;32m   1690\u001b[0m         arr\u001b[38;5;241m.\u001b[39mflags\u001b[38;5;241m.\u001b[39mwriteable \u001b[38;5;241m=\u001b[39m \u001b[38;5;28;01mFalse\u001b[39;00m\n\u001b[0;32m   1691\u001b[0m \u001b[38;5;28;01melse\u001b[39;00m:\n\u001b[1;32m-> 1692\u001b[0m     arr \u001b[38;5;241m=\u001b[39m \u001b[38;5;28;43mself\u001b[39;49m\u001b[38;5;241;43m.\u001b[39;49m\u001b[43m_interleave\u001b[49m\u001b[43m(\u001b[49m\u001b[43mdtype\u001b[49m\u001b[38;5;241;43m=\u001b[39;49m\u001b[43mdtype\u001b[49m\u001b[43m,\u001b[49m\u001b[43m \u001b[49m\u001b[43mna_value\u001b[49m\u001b[38;5;241;43m=\u001b[39;49m\u001b[43mna_value\u001b[49m\u001b[43m)\u001b[49m\n\u001b[0;32m   1693\u001b[0m     \u001b[38;5;66;03m# The underlying data was copied within _interleave, so no need\u001b[39;00m\n\u001b[0;32m   1694\u001b[0m     \u001b[38;5;66;03m# to further copy if copy=True or setting na_value\u001b[39;00m\n\u001b[0;32m   1696\u001b[0m \u001b[38;5;28;01mif\u001b[39;00m na_value \u001b[38;5;129;01mis\u001b[39;00m lib\u001b[38;5;241m.\u001b[39mno_default:\n",
      "File \u001b[1;32mc:\\Users\\eorlo\\.pyenv\\pyenv-win\\versions\\3.12.0\\Lib\\site-packages\\pandas\\core\\internals\\managers.py:1751\u001b[0m, in \u001b[0;36mBlockManager._interleave\u001b[1;34m(self, dtype, na_value)\u001b[0m\n\u001b[0;32m   1749\u001b[0m     \u001b[38;5;28;01melse\u001b[39;00m:\n\u001b[0;32m   1750\u001b[0m         arr \u001b[38;5;241m=\u001b[39m blk\u001b[38;5;241m.\u001b[39mget_values(dtype)\n\u001b[1;32m-> 1751\u001b[0m     \u001b[43mresult\u001b[49m\u001b[43m[\u001b[49m\u001b[43mrl\u001b[49m\u001b[38;5;241;43m.\u001b[39;49m\u001b[43mindexer\u001b[49m\u001b[43m]\u001b[49m \u001b[38;5;241m=\u001b[39m arr\n\u001b[0;32m   1752\u001b[0m     itemmask[rl\u001b[38;5;241m.\u001b[39mindexer] \u001b[38;5;241m=\u001b[39m \u001b[38;5;241m1\u001b[39m\n\u001b[0;32m   1754\u001b[0m \u001b[38;5;28;01mif\u001b[39;00m \u001b[38;5;129;01mnot\u001b[39;00m itemmask\u001b[38;5;241m.\u001b[39mall():\n",
      "\u001b[1;31mValueError\u001b[0m: could not convert string to float: 'BBPACGBUVJUXF'"
     ]
    }
   ],
   "source": [
    "df_train.corr()[\"class\"]"
   ]
  },
  {
   "cell_type": "markdown",
   "id": "6dae9e97",
   "metadata": {},
   "source": [
    "We can still bin the numeric columns to see if there is any relationship. The highest priced bin has by far the lowest fraud while the 85-100 have significantly more."
   ]
  },
  {
   "cell_type": "code",
   "execution_count": null,
   "id": "ca0ccaa6",
   "metadata": {},
   "outputs": [],
   "source": [
    "g = pd.cut(df_train['purchase_value'], bins=list(range(5, 105, 10)) + [200])\n",
    "df_temp = df_train.groupby(g).agg(count=('class', 'size'), perc_fraud=('class', 'mean'))\n",
    "df_temp['perc_fraud'] = df_temp['perc_fraud'].round(3) * 100\n",
    "df_temp"
   ]
  },
  {
   "cell_type": "markdown",
   "id": "d6dd5424",
   "metadata": {},
   "source": [
    "Again, not much signal with age."
   ]
  },
  {
   "cell_type": "code",
   "execution_count": null,
   "id": "ed119afa",
   "metadata": {},
   "outputs": [],
   "source": [
    "g = pd.cut(df_train['age'], bins=list(range(15, 70, 5)) + [100])\n",
    "df_temp = df_train.groupby(g).agg(count=('class', 'size'), perc_fraud=('class', 'mean'))\n",
    "df_temp['perc_fraud'] = df_temp['perc_fraud'].round(3) * 100\n",
    "df_temp"
   ]
  },
  {
   "cell_type": "markdown",
   "id": "524917e5",
   "metadata": {},
   "source": [
    "We can even check the user_id to see if there is signal there. The results are what we would expect from randomness."
   ]
  },
  {
   "cell_type": "code",
   "execution_count": null,
   "id": "b25cc1eb",
   "metadata": {},
   "outputs": [],
   "source": [
    "df_train.groupby(pd.qcut(df_train['user_id'], 100))['class'].mean().nlargest()"
   ]
  },
  {
   "cell_type": "markdown",
   "id": "8a5c9956",
   "metadata": {},
   "source": [
    "## Multivariate exploration\n",
    "\n",
    "We can look at different combinations of the categorical variables to see if there is any signal. We write a function to calculate the percent fraud for different groupings."
   ]
  },
  {
   "cell_type": "code",
   "execution_count": null,
   "id": "0a0c31f3",
   "metadata": {},
   "outputs": [],
   "source": [
    "def fraud_group(df, cols, min_count=50, n=10):\n",
    "    df = df.groupby(cols) \\\n",
    "           .agg(count=('class', 'size'),\n",
    "                perc_fraud=('class', 'mean'),\n",
    "                avg_price=('purchase_value', 'mean'))\n",
    "    df['perc_fraud'] = df['perc_fraud'].round(3) * 100\n",
    "    return df.query('count > @min_count').nlargest(n, 'perc_fraud')"
   ]
  },
  {
   "cell_type": "markdown",
   "id": "8701662c",
   "metadata": {},
   "source": [
    "Grouping by browser, source, and sex reveals only a few combinations with small signal."
   ]
  },
  {
   "cell_type": "code",
   "execution_count": null,
   "id": "5cbd218e",
   "metadata": {},
   "outputs": [],
   "source": [
    "fraud_group(df_train, ['browser', 'source', 'sex'])"
   ]
  },
  {
   "cell_type": "markdown",
   "id": "fce371f3",
   "metadata": {},
   "source": [
    "Adding in country, there are some combinations that have much higher fraud, though the overall counts are low."
   ]
  },
  {
   "cell_type": "code",
   "execution_count": null,
   "id": "8440a482",
   "metadata": {},
   "outputs": [],
   "source": [
    "fraud_group(df_train, ['country', 'browser', 'source', 'sex'])"
   ]
  },
  {
   "cell_type": "markdown",
   "id": "f3f6e611",
   "metadata": {},
   "source": [
    "We can use the bins for age and purchase value as well."
   ]
  },
  {
   "cell_type": "code",
   "execution_count": null,
   "id": "952a8e2a",
   "metadata": {},
   "outputs": [],
   "source": [
    "g = pd.cut(df_train['age'], bins=list(range(15, 70, 5)) + [100])\n",
    "fraud_group(df_train, ['browser', 'source', g])"
   ]
  },
  {
   "cell_type": "markdown",
   "id": "58fbb5a0",
   "metadata": {},
   "source": [
    "## Explore signup and purchase time\n",
    "\n",
    "Date columns require a different approach for analysis.\n",
    "\n",
    "### Seconds until purchase\n",
    "\n",
    "We begin by finding the seconds until purchase."
   ]
  },
  {
   "cell_type": "code",
   "execution_count": null,
   "id": "a902565d",
   "metadata": {},
   "outputs": [],
   "source": [
    "secs_to_purchase = (df_train['purchase_time'] - df_train['signup_time']).dt.total_seconds()\n",
    "secs_to_purchase.head(3)"
   ]
  },
  {
   "cell_type": "markdown",
   "id": "1c4bc1c5",
   "metadata": {},
   "source": [
    "Interestingly, the first few rows all had purchases after one second and all were fraudulent. Let's select all purchases that happened in one second."
   ]
  },
  {
   "cell_type": "code",
   "execution_count": null,
   "id": "d6e354f1",
   "metadata": {},
   "outputs": [],
   "source": [
    "filt = secs_to_purchase == 1\n",
    "df_train.loc[filt, 'class'].agg(['mean', 'size'])"
   ]
  },
  {
   "cell_type": "markdown",
   "id": "8de77474",
   "metadata": {},
   "source": [
    "Remarkably, every single transaction that took place in 1 second was marked as fraud."
   ]
  },
  {
   "cell_type": "markdown",
   "id": "203ebd46",
   "metadata": {},
   "source": [
    "### Separating out 1 second transactions\n",
    "\n",
    "Since we found a one to one mapping between a feature of our dataset and fraud, let's filter out this data into its own DataFrame."
   ]
  },
  {
   "cell_type": "code",
   "execution_count": null,
   "id": "5e817dd1",
   "metadata": {},
   "outputs": [],
   "source": [
    "df_one_second = df_train[filt].reset_index(drop=True)\n",
    "df_remaining = df_train[~filt].reset_index(drop=True)"
   ]
  },
  {
   "cell_type": "markdown",
   "id": "0a1eda59",
   "metadata": {},
   "source": [
    "### Metadata for new datasets"
   ]
  },
  {
   "cell_type": "code",
   "execution_count": null,
   "id": "c245e6ba",
   "metadata": {},
   "outputs": [],
   "source": [
    "df_one_second.shape"
   ]
  },
  {
   "cell_type": "code",
   "execution_count": null,
   "id": "bfd80799",
   "metadata": {},
   "outputs": [],
   "source": [
    "df_remaining.shape"
   ]
  },
  {
   "cell_type": "markdown",
   "id": "1a73f23b",
   "metadata": {},
   "source": [
    "Percent of \"Unknown\" countries shows they are similar."
   ]
  },
  {
   "cell_type": "code",
   "execution_count": null,
   "id": "ccb7cd0d",
   "metadata": {},
   "outputs": [],
   "source": [
    "(df_one_second['country'] == \"Unknown\").mean() * 100"
   ]
  },
  {
   "cell_type": "code",
   "execution_count": null,
   "id": "fb5496ca",
   "metadata": {},
   "outputs": [],
   "source": [
    "(df_remaining['country'] == \"Unknown\").mean() * 100"
   ]
  },
  {
   "cell_type": "markdown",
   "id": "c90e87c8",
   "metadata": {},
   "source": [
    "Number of unique values by column."
   ]
  },
  {
   "cell_type": "code",
   "execution_count": null,
   "id": "3741de6e",
   "metadata": {},
   "outputs": [],
   "source": [
    "df_one_second.nunique()"
   ]
  },
  {
   "cell_type": "code",
   "execution_count": null,
   "id": "0304855b",
   "metadata": {},
   "outputs": [],
   "source": [
    "df_remaining.nunique()"
   ]
  },
  {
   "cell_type": "markdown",
   "id": "c98ad08f",
   "metadata": {},
   "source": [
    "### Repeating IP Addresses\n",
    "\n",
    "From above, the one second purchase data has lots of repeating IP addresses."
   ]
  },
  {
   "cell_type": "code",
   "execution_count": null,
   "id": "b51744d1",
   "metadata": {},
   "outputs": [],
   "source": [
    "df_one_second['ip_address'].value_counts().head()"
   ]
  },
  {
   "cell_type": "markdown",
   "id": "ab15a0a1",
   "metadata": {},
   "source": [
    "In fact, all of the repeating IP addresses are in the one second data. None are in the remaining."
   ]
  },
  {
   "cell_type": "code",
   "execution_count": null,
   "id": "ebf6a3f1",
   "metadata": {},
   "outputs": [],
   "source": [
    "df_remaining['ip_address'].is_unique"
   ]
  },
  {
   "cell_type": "markdown",
   "id": "58488111",
   "metadata": {},
   "source": [
    "### Distribution of transactions over time\n",
    "\n",
    "Let's look at the number of transaction per month."
   ]
  },
  {
   "cell_type": "code",
   "execution_count": null,
   "id": "eb6d91e8",
   "metadata": {},
   "outputs": [],
   "source": [
    "df_one_second.resample('M', on='signup_time').size()"
   ]
  },
  {
   "cell_type": "markdown",
   "id": "b666d7b7",
   "metadata": {},
   "source": [
    "All of the one second transactions took place in January with about the same number per day."
   ]
  },
  {
   "cell_type": "code",
   "execution_count": null,
   "id": "2d4d2aae",
   "metadata": {},
   "outputs": [],
   "source": [
    "df_one_second.resample('D', on='signup_time').size()"
   ]
  },
  {
   "cell_type": "markdown",
   "id": "f57124d0",
   "metadata": {},
   "source": [
    "All of the other transactions appear to be fairly evenly distributed across the months."
   ]
  },
  {
   "cell_type": "code",
   "execution_count": null,
   "id": "b070bfe0",
   "metadata": {
    "scrolled": true
   },
   "outputs": [],
   "source": [
    "df_remaining.resample('M', on='signup_time', kind='period').size()"
   ]
  },
  {
   "cell_type": "markdown",
   "id": "ee8bd5b6",
   "metadata": {},
   "source": [
    "## New baseline\n",
    "\n",
    "Now that we've separated out the one second transaction, we'll recalculate the percent fraudulent."
   ]
  },
  {
   "cell_type": "code",
   "execution_count": null,
   "id": "ad5ade55",
   "metadata": {},
   "outputs": [],
   "source": [
    "df_remaining['class'].mean()"
   ]
  },
  {
   "cell_type": "markdown",
   "id": "d0b1e66c",
   "metadata": {},
   "source": [
    "We'll focus on building a model on the remaining dataset and look for groups that have significantly more fraud than **4.6%**."
   ]
  },
  {
   "cell_type": "markdown",
   "id": "4f130726",
   "metadata": {},
   "source": [
    "### Group again\n",
    "\n",
    "Let's look at some of the same groups from above with our new filtered data."
   ]
  },
  {
   "cell_type": "code",
   "execution_count": null,
   "id": "3069ee49",
   "metadata": {},
   "outputs": [],
   "source": [
    "fraud_group(df_remaining, 'sex')"
   ]
  },
  {
   "cell_type": "code",
   "execution_count": null,
   "id": "fec8ddc7",
   "metadata": {},
   "outputs": [],
   "source": [
    "fraud_group(df_remaining, 'source')"
   ]
  },
  {
   "cell_type": "code",
   "execution_count": null,
   "id": "c516c766",
   "metadata": {},
   "outputs": [],
   "source": [
    "fraud_group(df_remaining, 'browser')"
   ]
  },
  {
   "cell_type": "code",
   "execution_count": null,
   "id": "fde5afa1",
   "metadata": {},
   "outputs": [],
   "source": [
    "fraud_group(df_remaining, 'country')"
   ]
  },
  {
   "cell_type": "code",
   "execution_count": null,
   "id": "fbd7c576",
   "metadata": {},
   "outputs": [],
   "source": [
    "g = pd.cut(df_remaining['purchase_value'], bins=list(range(5, 105, 5)) + [200])\n",
    "fraud_group(df_remaining, g)"
   ]
  },
  {
   "cell_type": "code",
   "execution_count": null,
   "id": "8cacd393",
   "metadata": {},
   "outputs": [],
   "source": [
    "g = pd.cut(df_remaining['purchase_value'], bins=list(range(5, 105, 5)) + [200])\n",
    "fraud_group(df_remaining, g)"
   ]
  },
  {
   "cell_type": "code",
   "execution_count": null,
   "id": "36fb0bda",
   "metadata": {},
   "outputs": [],
   "source": [
    "g = pd.cut(df_remaining['age'], bins=list(range(15, 70, 5)) + [100])\n",
    "fraud_group(df_remaining, g)"
   ]
  },
  {
   "cell_type": "code",
   "execution_count": null,
   "id": "15cb85a4",
   "metadata": {},
   "outputs": [],
   "source": [
    "fraud_group(df_remaining, ['country', 'browser', 'source', 'sex'])"
   ]
  },
  {
   "cell_type": "markdown",
   "id": "630d0b8b",
   "metadata": {},
   "source": [
    "### More date features\n",
    "\n",
    "New features can be generated for each of the date columns such as:\n",
    "\n",
    "* day name\n",
    "* month\n",
    "* hour\n",
    "* minute\n",
    "\n",
    "We begin with looking at the day name of the signup time."
   ]
  },
  {
   "cell_type": "code",
   "execution_count": null,
   "id": "1a42dd9d",
   "metadata": {},
   "outputs": [],
   "source": [
    "g = df_remaining['signup_time'].dt.day_name()\n",
    "g.head()"
   ]
  },
  {
   "cell_type": "markdown",
   "id": "fea65ea6",
   "metadata": {},
   "source": [
    "Calculating fraud by day name doesn't appear to provide much signal."
   ]
  },
  {
   "cell_type": "code",
   "execution_count": null,
   "id": "7f0a4095",
   "metadata": {
    "scrolled": true
   },
   "outputs": [],
   "source": [
    "fraud_group(df_remaining, g)"
   ]
  },
  {
   "cell_type": "markdown",
   "id": "368ed38e",
   "metadata": {},
   "source": [
    "Similarly, no signal for purchase time day name."
   ]
  },
  {
   "cell_type": "code",
   "execution_count": null,
   "id": "6beeaa63",
   "metadata": {},
   "outputs": [],
   "source": [
    "fraud_group(df_remaining, df_remaining['purchase_time'].dt.day_name())"
   ]
  },
  {
   "cell_type": "markdown",
   "id": "b580706c",
   "metadata": {},
   "source": [
    "The hour does not seem to matter either."
   ]
  },
  {
   "cell_type": "code",
   "execution_count": null,
   "id": "88db34df",
   "metadata": {},
   "outputs": [],
   "source": [
    "fraud_group(df_remaining, df_remaining['purchase_time'].dt.hour)"
   ]
  },
  {
   "cell_type": "code",
   "execution_count": null,
   "id": "c3978c3b",
   "metadata": {},
   "outputs": [],
   "source": [
    "fraud_group(df_remaining, df_remaining['purchase_time'].dt.minute)"
   ]
  },
  {
   "cell_type": "markdown",
   "id": "015171e7",
   "metadata": {},
   "source": [
    "### Device ID\n",
    "\n",
    "We now turn our attention to device_id. From the number of unique values, we know there are some that repeat. Let's look at those first."
   ]
  },
  {
   "cell_type": "code",
   "execution_count": null,
   "id": "e891976b",
   "metadata": {},
   "outputs": [],
   "source": [
    "df_remaining['device_id'].value_counts()[lambda x: x > 1].head()"
   ]
  },
  {
   "cell_type": "markdown",
   "id": "b2f20c54",
   "metadata": {},
   "source": [
    "The repeated device IDs are assigned to a variable. The `df_train` DataFrame is used to check for duplicates in the entire dataset."
   ]
  },
  {
   "cell_type": "code",
   "execution_count": null,
   "id": "e5ebb3a4",
   "metadata": {
    "scrolled": true
   },
   "outputs": [],
   "source": [
    "repeat_device_id = df_train['device_id'].value_counts()[lambda x: x > 1].index\n",
    "repeat_device_id[:10]"
   ]
  },
  {
   "cell_type": "markdown",
   "id": "e80c6e26",
   "metadata": {},
   "source": [
    "All transactions for these repeats are placed in their own DataFrame."
   ]
  },
  {
   "cell_type": "code",
   "execution_count": null,
   "id": "1af86fab",
   "metadata": {},
   "outputs": [],
   "source": [
    "df_repeat_device = df_remaining.query('device_id in @repeat_device_id') \\\n",
    "                               .sort_values('device_id', ignore_index=True)\n",
    "df_repeat_device.head(4)"
   ]
  },
  {
   "cell_type": "code",
   "execution_count": null,
   "id": "f4c567cb",
   "metadata": {},
   "outputs": [],
   "source": [
    "df_repeat_device.shape"
   ]
  },
  {
   "cell_type": "markdown",
   "id": "5e5b2fea",
   "metadata": {},
   "source": [
    "### Higher fraud for repeated device ID\n",
    "\n",
    "Overall, there is significantly more fraud for these transactions. An average of **21%** are fraud."
   ]
  },
  {
   "cell_type": "code",
   "execution_count": null,
   "id": "003c75f7",
   "metadata": {},
   "outputs": [],
   "source": [
    "df_repeat_device['class'].mean()"
   ]
  },
  {
   "cell_type": "markdown",
   "id": "ec34a900",
   "metadata": {},
   "source": [
    "A feature is created to indicate the number of the transaction for the given device ID."
   ]
  },
  {
   "cell_type": "code",
   "execution_count": null,
   "id": "0dabe6b8",
   "metadata": {},
   "outputs": [],
   "source": [
    "df_repeat_device['device_ct'] = df_repeat_device.groupby('device_id').cumcount() + 1\n",
    "df_repeat_device[['device_id', 'device_ct', 'class']].head(6)"
   ]
  },
  {
   "cell_type": "markdown",
   "id": "d7121b5d",
   "metadata": {},
   "source": [
    "This enables us to test whether the first, second transaction has more probability of fraud. Below, we see that the second transaction from the same device ID has similar fraud as the first. Only a few have more than two transactions."
   ]
  },
  {
   "cell_type": "code",
   "execution_count": null,
   "id": "1df272cc",
   "metadata": {},
   "outputs": [],
   "source": [
    "df_repeat_device.groupby('device_ct')['class'].agg(['size', 'mean'])"
   ]
  },
  {
   "cell_type": "markdown",
   "id": "38499d16",
   "metadata": {},
   "source": [
    "### Streaks of fraudulent transactions\n",
    "\n",
    "In this section, we'll look to see if fraudulent transactions occur in streaks. Our data is sorted by signup time, so we'll start with it. We shift the class column values down one which has the effect of looking at whether the very previous signup transaction was fraudulent."
   ]
  },
  {
   "cell_type": "code",
   "execution_count": null,
   "id": "cefc78b9",
   "metadata": {},
   "outputs": [],
   "source": [
    "df_remaining.groupby(df_remaining['class'].shift())['class'].mean()"
   ]
  },
  {
   "cell_type": "markdown",
   "id": "4ac53ee1",
   "metadata": {},
   "source": [
    "No signal is found. We can look at the previous 100 transactions and group by whether there are more or less than 5 frauds as a proxy for streaks. Again, no signal is detected."
   ]
  },
  {
   "cell_type": "code",
   "execution_count": null,
   "id": "a3cb8d9b",
   "metadata": {},
   "outputs": [],
   "source": [
    "g = df_remaining['class'].rolling(100).sum().shift() > 5\n",
    "df_remaining.groupby(g)['class'].agg(['size', 'mean'])"
   ]
  },
  {
   "cell_type": "markdown",
   "id": "0b7a38ed",
   "metadata": {},
   "source": [
    "Let's complete the same analysis, but sort by purchase time."
   ]
  },
  {
   "cell_type": "code",
   "execution_count": null,
   "id": "8d81cd75",
   "metadata": {},
   "outputs": [],
   "source": [
    "df_remaining_purch = df_remaining.sort_values('purchase_time', ignore_index=True)\n",
    "df_remaining_purch.head(3)"
   ]
  },
  {
   "cell_type": "markdown",
   "id": "a5aaf402",
   "metadata": {},
   "source": [
    "No signal present here."
   ]
  },
  {
   "cell_type": "code",
   "execution_count": null,
   "id": "ca4e2ba2",
   "metadata": {},
   "outputs": [],
   "source": [
    "df_remaining_purch.groupby(df_remaining_purch['class'].shift())['class'].mean()"
   ]
  },
  {
   "cell_type": "code",
   "execution_count": null,
   "id": "b1212bf5",
   "metadata": {},
   "outputs": [],
   "source": [
    "g = df_remaining_purch['class'].rolling(100).sum().shift() > 5\n",
    "df_remaining_purch.groupby(g)['class'].agg(['size', 'mean'])"
   ]
  },
  {
   "cell_type": "markdown",
   "id": "b70abe79",
   "metadata": {},
   "source": [
    "## Simplest model without machine learning\n",
    "\n",
    "I like to formulate models without machine learning that can act as a baseline. There appear to be only two significant signals thus far:\n",
    "\n",
    "* One second until purchase\n",
    "* Repeated device ID\n",
    "\n",
    "Because the one second until purchase yielded 100% fraudulent transactions, we have already separated it out into its own DataFrame. Any future transaction that occurs in one second will be flagged. Though as a cautionary note, all of these transaction happened in January. So future one second events would have to be watched carefully.\n",
    "\n",
    "### Expected value of flagged fraud\n",
    "\n",
    "Repeated device IDs showed to be 22% fraudulent, much higher than the 4.6% baseline. But, we must take into account the cost of an incorrectly flagged transaction (8 dollars). Even knowing that a device ID repeats, we will be wrong 78% of the time. In order to break even, the purchase price multiplied by the probability of fraud must be greater than 8 times the probability of not fraud. We have the following equation:\n",
    "\n",
    "$$ P * p_{f} > (1 - p_{f}) * 8$$\n",
    "\n",
    "We solve for the minimum purchase price."
   ]
  },
  {
   "cell_type": "code",
   "execution_count": null,
   "id": "4ff8618d",
   "metadata": {},
   "outputs": [],
   "source": [
    "INCORRECT_FRAUD_COST = 8\n",
    "def calc_min_price(p):\n",
    "    min_purchase_price = (1 - p) * INCORRECT_FRAUD_COST / p\n",
    "    return min_purchase_price\n",
    "\n",
    "p = df_repeat_device['class'].mean()\n",
    "calc_min_price(p)"
   ]
  },
  {
   "cell_type": "markdown",
   "id": "dc9e2e02",
   "metadata": {},
   "source": [
    "Therefore, the simplest model we can build would flag all transactions where a repeated device made a purchase of 29.5 or more. The function below summarizes the flagging of fraud and cost/savings to the company."
   ]
  },
  {
   "cell_type": "code",
   "execution_count": null,
   "id": "8bc91bcc",
   "metadata": {},
   "outputs": [],
   "source": [
    "def calc_income(df, min_price):\n",
    "    df = df[['purchase_value', 'class']].copy()\n",
    "    df['flag'] = 0\n",
    "    df['cost'] = 0\n",
    "    df['saved'] = 0\n",
    "    df['revenue'] = 0\n",
    "    is_flag = df['purchase_value'] >= min_price\n",
    "    is_fraud = df['class'] == 1\n",
    "    df.loc[is_flag, 'flag'] = 1\n",
    "    false_pos = is_flag & ~is_fraud\n",
    "    false_neg = ~is_flag & is_fraud\n",
    "    true_pos = is_flag & is_fraud\n",
    "    df.loc[false_pos, 'cost'] = -INCORRECT_FRAUD_COST\n",
    "    df.loc[false_neg, 'cost'] = -df['purchase_value']\n",
    "    df.loc[true_pos, 'saved'] = df['purchase_value']\n",
    "    df.loc[df['class'] == 0, 'revenue'] = df['purchase_value']\n",
    "    df['income'] = df['revenue'] + df['cost']\n",
    "    return df"
   ]
  },
  {
   "cell_type": "markdown",
   "id": "633216e2",
   "metadata": {},
   "source": [
    "Running this function with a minimum price of 29 dollars yields the following results. The first two transactions are marked as fraud incorrectly, losing the company 8 dollars each time. The next transactions is marked correctly as fraud saving the company 32 dollars. The 18th transaction is fraud, but not flagged, costing the company 19 dollars."
   ]
  },
  {
   "cell_type": "code",
   "execution_count": null,
   "id": "56d0ab48",
   "metadata": {},
   "outputs": [],
   "source": [
    "df_income = calc_income(df_repeat_device, 29)\n",
    "df_income.head(20)"
   ]
  },
  {
   "cell_type": "markdown",
   "id": "7b59aef9",
   "metadata": {},
   "source": [
    "We can test our simple model by finding the total cost at all price points."
   ]
  },
  {
   "cell_type": "code",
   "execution_count": null,
   "id": "6c367f68",
   "metadata": {},
   "outputs": [],
   "source": [
    "s = pd.Series({i: calc_income(df_repeat_device, i)['cost'].sum() for i in range(9, 100)})\n",
    "s.head(10)"
   ]
  },
  {
   "cell_type": "markdown",
   "id": "aff5c66c",
   "metadata": {},
   "source": [
    "The price that minimizes the cost is at 31, very close to our calculation of 29.5."
   ]
  },
  {
   "cell_type": "code",
   "execution_count": null,
   "id": "a593beac",
   "metadata": {},
   "outputs": [],
   "source": [
    "s.idxmax()"
   ]
  },
  {
   "cell_type": "markdown",
   "id": "80f09c69",
   "metadata": {},
   "source": [
    "We can make a plot of how the cost varies with different thresholds. A threshold of 100 is essentially no threshold (almost no frauds marked) as very few transactions are made past that price point."
   ]
  },
  {
   "cell_type": "code",
   "execution_count": null,
   "id": "052c1a32",
   "metadata": {},
   "outputs": [],
   "source": [
    "def plot_threshold(df, col, title):\n",
    "    s = pd.Series({i: calc_income(df, i)[col].sum() for i in range(9, 100)})\n",
    "    ax = s.plot(figsize=(5, 2.5))\n",
    "    ax.set_ylabel('Cost')\n",
    "    ax.set_xlabel('Minimum Price Threshold')\n",
    "    ax.set_title(title);"
   ]
  },
  {
   "cell_type": "code",
   "execution_count": null,
   "id": "1b4c3cec",
   "metadata": {
    "scrolled": false
   },
   "outputs": [],
   "source": [
    "plot_threshold(df_repeat_device, 'cost', 'Repeated Device Fraud Threshold')"
   ]
  },
  {
   "cell_type": "markdown",
   "id": "0e906889",
   "metadata": {},
   "source": [
    "### Unique device ID\n",
    "\n",
    "Let's put the transactions coming from a unique device ID in their own DataFrame."
   ]
  },
  {
   "cell_type": "code",
   "execution_count": null,
   "id": "b77760b1",
   "metadata": {},
   "outputs": [],
   "source": [
    "df_unique_device = df_remaining.query('device_id not in @repeat_device_id')\n",
    "df_unique_device.head(3)"
   ]
  },
  {
   "cell_type": "code",
   "execution_count": null,
   "id": "917713c2",
   "metadata": {},
   "outputs": [],
   "source": [
    "df_unique_device['device_id'].is_unique"
   ]
  },
  {
   "cell_type": "code",
   "execution_count": null,
   "id": "ac6596d6",
   "metadata": {},
   "outputs": [],
   "source": [
    "df_unique_device.shape"
   ]
  },
  {
   "cell_type": "markdown",
   "id": "a997109d",
   "metadata": {},
   "source": [
    "We know have three mutually exclusive DataFrames that contain all of the data:\n",
    "\n",
    "* df_one_second\n",
    "* df_repeat_device\n",
    "* df_unique_device\n",
    "\n",
    "Let's verify that the number of rows equals 96,000."
   ]
  },
  {
   "cell_type": "code",
   "execution_count": null,
   "id": "c2d10dea",
   "metadata": {},
   "outputs": [],
   "source": [
    "len(df_one_second) + len(df_repeat_device) + len(df_unique_device)"
   ]
  },
  {
   "cell_type": "markdown",
   "id": "393d46cd",
   "metadata": {},
   "source": [
    "Let's get the baseline fraud for this subset."
   ]
  },
  {
   "cell_type": "code",
   "execution_count": null,
   "id": "3d1ef128",
   "metadata": {},
   "outputs": [],
   "source": [
    "df_unique_device['class'].mean()"
   ]
  },
  {
   "cell_type": "markdown",
   "id": "d2a44bb1",
   "metadata": {},
   "source": [
    "It's down to just 3.6%. It might be difficult to find a group within here that makes it worthwhile to flag as fraud. Even when grouping by 4 variables below, the highest fraud percent is 10%."
   ]
  },
  {
   "cell_type": "code",
   "execution_count": null,
   "id": "2fa6487e",
   "metadata": {},
   "outputs": [],
   "source": [
    "fraud_group(df_unique_device, ['country', 'source', 'browser', 'sex'])"
   ]
  },
  {
   "cell_type": "markdown",
   "id": "0758c30f",
   "metadata": {},
   "source": [
    "Let's calculate the minimum price needed to flag a transaction as fraudulent."
   ]
  },
  {
   "cell_type": "code",
   "execution_count": null,
   "id": "bd827cdc",
   "metadata": {},
   "outputs": [],
   "source": [
    "calc_min_price(df_unique_device['class'].mean())"
   ]
  },
  {
   "cell_type": "markdown",
   "id": "f341815c",
   "metadata": {},
   "source": [
    "This is greater than the maximum, so no transactions would be flagged. Let's plot the cost against the price threshold for this dataset. As expected, there is no threshold that is viable."
   ]
  },
  {
   "cell_type": "code",
   "execution_count": null,
   "id": "92a91084",
   "metadata": {
    "scrolled": false
   },
   "outputs": [],
   "source": [
    "plot_threshold(df_unique_device, 'cost', 'Unique Device Fraud Threshold')"
   ]
  },
  {
   "cell_type": "markdown",
   "id": "91b2b620",
   "metadata": {},
   "source": [
    "## Formal machine learning\n",
    "\n",
    "In this section, we'll take a more formal approach to model building by using sophisticated pre-built machine learning algorithms from the scikit-learn python library. As we did above, we will slowly build models gradually increasing complexity. We will work with the entire training dataset to show how transformations can be automated and passed through a machine learning pipeline."
   ]
  },
  {
   "cell_type": "code",
   "execution_count": null,
   "id": "f9ee85f2",
   "metadata": {},
   "outputs": [],
   "source": [
    "df_train.head(3)"
   ]
  },
  {
   "cell_type": "code",
   "execution_count": null,
   "id": "39476992",
   "metadata": {},
   "outputs": [],
   "source": [
    "from sklearn.preprocessing import OneHotEncoder, FunctionTransformer, KBinsDiscretizer\n",
    "from sklearn.compose import ColumnTransformer\n",
    "from sklearn.pipeline import Pipeline\n",
    "from sklearn.linear_model import LogisticRegression"
   ]
  },
  {
   "cell_type": "markdown",
   "id": "a64a426b",
   "metadata": {},
   "source": [
    "Two functions are defined to create two features, both of which are booleans. The first determines whether the transaction took place in one second and the second determines if the device ID is duplicated."
   ]
  },
  {
   "cell_type": "code",
   "execution_count": null,
   "id": "0f6d2c72",
   "metadata": {},
   "outputs": [],
   "source": [
    "def is_one_second(df, return_frame=True):\n",
    "    s = (df['purchase_time'] - df['signup_time']).dt.total_seconds() == 1\n",
    "    if return_frame:\n",
    "        return s.to_frame()\n",
    "    return s\n",
    "\n",
    "def is_dupe_device(s, return_frame=True):\n",
    "    s = s.duplicated(keep=False)\n",
    "    if return_frame:\n",
    "        return s.to_frame()\n",
    "    return s\n",
    "\n",
    "ft_one_second = FunctionTransformer(is_one_second)\n",
    "ft_dupe_device = FunctionTransformer(is_dupe_device)"
   ]
  },
  {
   "cell_type": "markdown",
   "id": "fdd82917",
   "metadata": {},
   "source": [
    "A machine learning pipeline is built to transform the columns before sending them to the logistic regression model which is used for classification. The source, browser, and sex nominal categorical variables are one-hot encoded. The above functions are used to produce the other two features."
   ]
  },
  {
   "cell_type": "code",
   "execution_count": null,
   "id": "e0739e2c",
   "metadata": {},
   "outputs": [],
   "source": [
    "ct = ColumnTransformer([\n",
    "    ('cat', OneHotEncoder(), ['source', 'browser', 'sex']),\n",
    "    ('one_second', ft_one_second, ['signup_time', 'purchase_time']),\n",
    "    ('dev', ft_dupe_device, 'device_id'),\n",
    "])\n",
    "lr = LogisticRegression(max_iter=1000)\n",
    "pipe = Pipeline([\n",
    "    ('ct', ct),\n",
    "    ('lr', lr)\n",
    "])"
   ]
  },
  {
   "cell_type": "markdown",
   "id": "5b3feca2",
   "metadata": {},
   "source": [
    "The pipeline is fit (variables transformed and model trained) and the probabilities of fraud are returned."
   ]
  },
  {
   "cell_type": "code",
   "execution_count": null,
   "id": "f2abab1e",
   "metadata": {},
   "outputs": [],
   "source": [
    "y_true = df_train['class']\n",
    "pipe.fit(df_train, y=y_true);\n",
    "probs = pipe.predict_proba(df_train)\n",
    "probs[:5]"
   ]
  },
  {
   "cell_type": "markdown",
   "id": "bb6ab4f2",
   "metadata": {},
   "source": [
    "The probability of fraud is contained in the second column and assigned to the variable name `y_pred`."
   ]
  },
  {
   "cell_type": "code",
   "execution_count": null,
   "id": "04b025f8",
   "metadata": {
    "scrolled": true
   },
   "outputs": [],
   "source": [
    "y_pred = probs[:, 1]\n",
    "y_pred"
   ]
  },
  {
   "cell_type": "markdown",
   "id": "b5cfd961",
   "metadata": {},
   "source": [
    "The maximum probability of fraud was over 99%."
   ]
  },
  {
   "cell_type": "code",
   "execution_count": null,
   "id": "d987e199",
   "metadata": {
    "scrolled": true
   },
   "outputs": [],
   "source": [
    "y_pred.max()"
   ]
  },
  {
   "cell_type": "markdown",
   "id": "d80a167b",
   "metadata": {},
   "source": [
    "Let's see if the model was able to find the one second transactions that were all fraudulent by filtering for all transactions with higher than 99% probability."
   ]
  },
  {
   "cell_type": "code",
   "execution_count": null,
   "id": "3b24578c",
   "metadata": {},
   "outputs": [],
   "source": [
    "df_train[y_pred > .99].head()"
   ]
  },
  {
   "cell_type": "markdown",
   "id": "1ae4c211",
   "metadata": {},
   "source": [
    "These are the same 6,021 rows found earlier."
   ]
  },
  {
   "cell_type": "code",
   "execution_count": null,
   "id": "11d69fc9",
   "metadata": {},
   "outputs": [],
   "source": [
    "df_one_second.shape"
   ]
  },
  {
   "cell_type": "markdown",
   "id": "53d9f60f",
   "metadata": {},
   "source": [
    "Let's look at the probabilities of fraud for the duplicated device IDs that are not one second transactions."
   ]
  },
  {
   "cell_type": "code",
   "execution_count": null,
   "id": "93ff0a76",
   "metadata": {},
   "outputs": [],
   "source": [
    "filt1 = is_dupe_device(df_train['device_id'], return_frame=False)\n",
    "filt2 = is_one_second(df_train, return_frame=False)\n",
    "filt = filt1 & ~filt2\n",
    "prob_fraud_dupe_device = y_pred[filt]\n",
    "prob_fraud_dupe_device[:10]"
   ]
  },
  {
   "cell_type": "markdown",
   "id": "72f758fa",
   "metadata": {},
   "source": [
    "The range of probabilities is between 20% and 26%, around our calculated 21% fraud without machine learning."
   ]
  },
  {
   "cell_type": "code",
   "execution_count": null,
   "id": "c090d816",
   "metadata": {},
   "outputs": [],
   "source": [
    "prob_fraud_dupe_device.min(), prob_fraud_dupe_device.max()"
   ]
  },
  {
   "cell_type": "markdown",
   "id": "b468d3fa",
   "metadata": {},
   "source": [
    "### Confusion matrix\n",
    "\n",
    "Let's get a look at all of the combinations of events - true positives/negatives and false positives/negatives by creating a confusion matrix. First we use our `calc_income` function to get the final decision."
   ]
  },
  {
   "cell_type": "code",
   "execution_count": null,
   "id": "50ba61ca",
   "metadata": {},
   "outputs": [],
   "source": [
    "min_price = calc_min_price(y_pred)\n",
    "df_income = calc_income(df_train, min_price)\n",
    "df_income.head()"
   ]
  },
  {
   "cell_type": "markdown",
   "id": "5116a43e",
   "metadata": {},
   "source": [
    "Use scikit-learn to create confusion matrix."
   ]
  },
  {
   "cell_type": "code",
   "execution_count": null,
   "id": "52f90f11",
   "metadata": {},
   "outputs": [],
   "source": [
    "from sklearn.metrics import confusion_matrix\n",
    "def create_confusion(y_true, df_income, filt=None):\n",
    "    y_pred = df_income['flag']\n",
    "    if filt is not None:\n",
    "        y_true = y_true[filt]\n",
    "        y_pred = y_pred[filt]\n",
    "    df_conf = pd.DataFrame(confusion_matrix(y_true, y_pred))\n",
    "    df_conf.index.name = 'actual'\n",
    "    df_conf.columns.name = 'predicted'\n",
    "    return df_conf\n",
    "\n",
    "create_confusion(y_true, df_income)"
   ]
  },
  {
   "cell_type": "markdown",
   "id": "accb5b2a",
   "metadata": {},
   "source": [
    "* 3,446 transactions were fraudulent that our model did not detect (false negative). Cost equal to purchase_value\n",
    "* 2,385 transactions were predicted to be fraudulent from our model that were not (false positive). Cost of 8.\n",
    "* 6,709 were correctly predicted fraud transactions saving purchase_value\n",
    "* The rest were correctly predicted as not fraudulent.\n",
    "\n",
    "### Filtering out one-second transactions\n",
    "\n",
    "Filtering out the one second transactions (with over 99% predicted fraud), we get the following confusion matrix."
   ]
  },
  {
   "cell_type": "code",
   "execution_count": null,
   "id": "72fb08f2",
   "metadata": {},
   "outputs": [],
   "source": [
    "filt = y_pred < .99\n",
    "create_confusion(y_true, df_income, filt)"
   ]
  },
  {
   "cell_type": "markdown",
   "id": "12cad049",
   "metadata": {},
   "source": [
    "These results look far less impressive, but there was only signal in the repeated device ID transactions."
   ]
  },
  {
   "cell_type": "markdown",
   "id": "d2ee820a",
   "metadata": {},
   "source": [
    "### Calculating mean cost\n",
    "\n",
    "We can adapt our previous function `calc_income` from above to return the average cost of each transaction.\n",
    "\n",
    "* The minimum price to flag is calculated with the `calc_min_price` function defined above\n",
    "* The transaction is flagged if the purchase_value is greater than this minimum price\n",
    "* The cost for a false positive (-8) and false negative (-purchase_value) are found \n",
    "* The average cost for all transactions is returned."
   ]
  },
  {
   "cell_type": "code",
   "execution_count": null,
   "id": "4f914dd8",
   "metadata": {},
   "outputs": [],
   "source": [
    "def mean_cost(y_true, y_pred, purchase_value):\n",
    "    min_price = calc_min_price(y_pred)\n",
    "    is_flag = purchase_value > min_price\n",
    "    is_fraud = y_true == 1\n",
    "    false_pos = is_flag & ~is_fraud\n",
    "    false_neg = ~is_flag & is_fraud\n",
    "\n",
    "    false_pos_cost = false_pos * -INCORRECT_FRAUD_COST\n",
    "    false_neg_cost = false_neg * -purchase_value\n",
    "    cost = false_pos_cost + false_neg_cost\n",
    "    return cost.mean()"
   ]
  },
  {
   "cell_type": "markdown",
   "id": "bb820436",
   "metadata": {},
   "source": [
    "An average cost of -1.46 is the result of this model."
   ]
  },
  {
   "cell_type": "code",
   "execution_count": null,
   "id": "d63e7918",
   "metadata": {
    "scrolled": true
   },
   "outputs": [],
   "source": [
    "mean_cost(y_true, y_pred, df_train['purchase_value'])"
   ]
  },
  {
   "cell_type": "markdown",
   "id": "c5b74472",
   "metadata": {},
   "source": [
    "### Country encoding\n",
    "\n",
    "There are well over 100 different countries in our dataset, but many of them appear just a handful of times. Let's look at the countries that appear less than 100 times."
   ]
  },
  {
   "cell_type": "code",
   "execution_count": null,
   "id": "896a0a2a",
   "metadata": {},
   "outputs": [],
   "source": [
    "df_train['country'].value_counts()[lambda x: x < 100]"
   ]
  },
  {
   "cell_type": "markdown",
   "id": "1723ce61",
   "metadata": {},
   "source": [
    "While there may be signal in some of these countries, we'll create a function to convert them to missing values, leaving only the countries that appeared more than 100 times in the dataset."
   ]
  },
  {
   "cell_type": "code",
   "execution_count": null,
   "id": "26a61a23",
   "metadata": {},
   "outputs": [],
   "source": [
    "def encode_country(s, min_count=100, return_frame=True):\n",
    "    low_ct_countries = s.value_counts()[lambda x: x < min_count].index\n",
    "    s = s.mask(s.isin(low_ct_countries)).cat.remove_unused_categories()\n",
    "    if return_frame:\n",
    "        return s.to_frame()\n",
    "    return s\n",
    "\n",
    "ft_encode_country = FunctionTransformer(encode_country)"
   ]
  },
  {
   "cell_type": "markdown",
   "id": "12e4a878",
   "metadata": {},
   "source": [
    "A separate pipeline is used to process this column and one-hot encode it. The new missing values (countries that appear less than 100 times) will all be treated as the same category."
   ]
  },
  {
   "cell_type": "code",
   "execution_count": null,
   "id": "16155cdb",
   "metadata": {},
   "outputs": [],
   "source": [
    "pipe_countries = Pipeline([\n",
    "    ('country_agg', ft_encode_country),\n",
    "    ('country_ohe', OneHotEncoder(handle_unknown='ignore'))\n",
    "])"
   ]
  },
  {
   "cell_type": "markdown",
   "id": "e3af2f79",
   "metadata": {},
   "source": [
    "### Binning age\n",
    "\n",
    "The `KBinsDiscretizer` transformer is able to automatically bin the age variable. \n",
    "\n",
    "### Leaving the purchase_value as continuous\n",
    "\n",
    "We 'passthrough' the purchase_value column without transforming it to leave it as a continuous variable.\n",
    "\n",
    "### Adding to the pipeline\n",
    "\n",
    "The country, age, and purchase_value are added to the column transformer, before recreating the final pipeline again."
   ]
  },
  {
   "cell_type": "code",
   "execution_count": null,
   "id": "87e74a34",
   "metadata": {},
   "outputs": [],
   "source": [
    "ct = ColumnTransformer([\n",
    "    ('cat', OneHotEncoder(), ['source', 'browser', 'sex']),\n",
    "    ('one_second', ft_one_second, ['signup_time', 'purchase_time']),\n",
    "    ('dev', ft_dupe_device, 'device_id'),\n",
    "    ('country', pipe_countries, 'country'),\n",
    "    ('age_bin', KBinsDiscretizer(n_bins=5, strategy='quantile'), ['age']),\n",
    "    ('cont', 'passthrough', ['purchase_value'])\n",
    "])\n",
    "lr = LogisticRegression(max_iter=1000)\n",
    "pipe = Pipeline([\n",
    "    ('ct', ct),\n",
    "    ('lr', lr)\n",
    "])"
   ]
  },
  {
   "cell_type": "markdown",
   "id": "60ac7083",
   "metadata": {},
   "source": [
    "We re-train the new model and calculate the average cost once again."
   ]
  },
  {
   "cell_type": "code",
   "execution_count": null,
   "id": "396c3bc6",
   "metadata": {},
   "outputs": [],
   "source": [
    "pipe.fit(df_train, y_true);\n",
    "y_pred = pipe.predict_proba(df_train)[:, 1]\n",
    "mean_cost(y_true, y_pred, df_train['purchase_value'])"
   ]
  },
  {
   "cell_type": "markdown",
   "id": "6bb13220",
   "metadata": {},
   "source": [
    "This cost is nearly identical to the simpler model, suggesting that very few decisions were changed."
   ]
  },
  {
   "cell_type": "code",
   "execution_count": null,
   "id": "2cc625ec",
   "metadata": {},
   "outputs": [],
   "source": [
    "min_price = calc_min_price(y_pred)\n",
    "df_income = calc_income(df_train, min_price)\n",
    "df_income.head()"
   ]
  },
  {
   "cell_type": "markdown",
   "id": "d536a181",
   "metadata": {},
   "source": [
    "We verify that the confusion matrix is very similar."
   ]
  },
  {
   "cell_type": "code",
   "execution_count": null,
   "id": "e9129a08",
   "metadata": {},
   "outputs": [],
   "source": [
    "create_confusion(y_true, df_income)"
   ]
  },
  {
   "cell_type": "markdown",
   "id": "cfa7632a",
   "metadata": {},
   "source": [
    "## Evaluating the model on the test dataset\n",
    "\n",
    "We can use the held-out test dataset to evaluate our model."
   ]
  },
  {
   "cell_type": "code",
   "execution_count": null,
   "id": "a0b6cf2c",
   "metadata": {},
   "outputs": [],
   "source": [
    "y_test_true = df_test['class']\n",
    "y_test_pred = pipe.predict_proba(df_test)[:, 1]\n",
    "mean_cost(y_test_true, y_test_pred, df_test['purchase_value'])"
   ]
  },
  {
   "cell_type": "markdown",
   "id": "d684ea2d",
   "metadata": {},
   "source": [
    "This cost of -1.66 is lower than the training set, likely because there were no transactions that took place in one second. These were all fraudulent and therefore easier to detect."
   ]
  },
  {
   "cell_type": "markdown",
   "id": "0a200a78",
   "metadata": {},
   "source": [
    "## Summary\n",
    "\n",
    "A simple model flagging all transactions that occurred in one second and those that had a repeated device ID with price above 29 dollars appears to capture most of the potential value. More investigation needs to be done to determine if other models would be able to find more signal in the data to flag more transactions as fraud."
   ]
  },
  {
   "cell_type": "markdown",
   "id": "5542b968",
   "metadata": {},
   "source": [
    "## Future work\n",
    "\n",
    "* Cross validation to tune hyperparameters of model (penalty for logistic regression, number of bins for age, minimum count for countries, etc...)\n",
    "* Evaluate significance of each variable. Do any variables besides time to purchase and device ID provide signal?\n",
    "* Different machine learning models such as random forests\n",
    "* Automate entire workflow and serialize model on disk"
   ]
  }
 ],
 "metadata": {
  "kernelspec": {
   "display_name": "WinPy3.12sys",
   "language": "python",
   "name": "win_pyenv3.12"
  },
  "language_info": {
   "codemirror_mode": {
    "name": "ipython",
    "version": 3
   },
   "file_extension": ".py",
   "mimetype": "text/x-python",
   "name": "python",
   "nbconvert_exporter": "python",
   "pygments_lexer": "ipython3",
   "version": "3.12.0"
  }
 },
 "nbformat": 4,
 "nbformat_minor": 5
}
